{
  "cells": [
    {
      "cell_type": "markdown",
      "metadata": {
        "id": "ZSJLt_l92-JC"
      },
      "source": [
        "# Build a NER model with variants of RNN - \n",
        "* A single-layer RNN network.\n",
        "* A k-layer RNN network, where k=[2,3]. \n",
        "* A bidirectional single-layer RNN. \n",
        "* A bidirectional k-layer RNN, where k=[2,3].\n",
        "\n",
        "With hidden layers in the range - [8, 32, 64]"
      ]
    },
    {
      "cell_type": "code",
      "execution_count": null,
      "metadata": {
        "colab": {
          "base_uri": "https://localhost:8080/"
        },
        "id": "HLoxf9mf98cr",
        "outputId": "fe8d7b99-9bce-4784-cb56-4b25dac6d6d1",
        "vscode": {
          "languageId": "python"
        }
      },
      "outputs": [
        {
          "name": "stdout",
          "output_type": "stream",
          "text": [
            "Looking in indexes: https://pypi.org/simple, https://us-python.pkg.dev/colab-wheels/public/simple/\n",
            "Requirement already satisfied: tensorflow==2.9.1 in /usr/local/lib/python3.7/dist-packages (2.9.1)\n",
            "Requirement already satisfied: termcolor>=1.1.0 in /usr/local/lib/python3.7/dist-packages (from tensorflow==2.9.1) (1.1.0)\n",
            "Requirement already satisfied: wrapt>=1.11.0 in /usr/local/lib/python3.7/dist-packages (from tensorflow==2.9.1) (1.14.1)\n",
            "Requirement already satisfied: absl-py>=1.0.0 in /usr/local/lib/python3.7/dist-packages (from tensorflow==2.9.1) (1.1.0)\n",
            "Requirement already satisfied: numpy>=1.20 in /usr/local/lib/python3.7/dist-packages (from tensorflow==2.9.1) (1.21.6)\n",
            "Requirement already satisfied: tensorflow-estimator<2.10.0,>=2.9.0rc0 in /usr/local/lib/python3.7/dist-packages (from tensorflow==2.9.1) (2.9.0)\n",
            "Requirement already satisfied: tensorboard<2.10,>=2.9 in /usr/local/lib/python3.7/dist-packages (from tensorflow==2.9.1) (2.9.1)\n",
            "Requirement already satisfied: keras-preprocessing>=1.1.1 in /usr/local/lib/python3.7/dist-packages (from tensorflow==2.9.1) (1.1.2)\n",
            "Requirement already satisfied: six>=1.12.0 in /usr/local/lib/python3.7/dist-packages (from tensorflow==2.9.1) (1.15.0)\n",
            "Requirement already satisfied: grpcio<2.0,>=1.24.3 in /usr/local/lib/python3.7/dist-packages (from tensorflow==2.9.1) (1.47.0)\n",
            "Requirement already satisfied: astunparse>=1.6.0 in /usr/local/lib/python3.7/dist-packages (from tensorflow==2.9.1) (1.6.3)\n",
            "Requirement already satisfied: libclang>=13.0.0 in /usr/local/lib/python3.7/dist-packages (from tensorflow==2.9.1) (14.0.1)\n",
            "Requirement already satisfied: opt-einsum>=2.3.2 in /usr/local/lib/python3.7/dist-packages (from tensorflow==2.9.1) (3.3.0)\n",
            "Requirement already satisfied: h5py>=2.9.0 in /usr/local/lib/python3.7/dist-packages (from tensorflow==2.9.1) (3.1.0)\n",
            "Requirement already satisfied: tensorflow-io-gcs-filesystem>=0.23.1 in /usr/local/lib/python3.7/dist-packages (from tensorflow==2.9.1) (0.26.0)\n",
            "Requirement already satisfied: flatbuffers<2,>=1.12 in /usr/local/lib/python3.7/dist-packages (from tensorflow==2.9.1) (1.12)\n",
            "Requirement already satisfied: setuptools in /usr/local/lib/python3.7/dist-packages (from tensorflow==2.9.1) (57.4.0)\n",
            "Requirement already satisfied: gast<=0.4.0,>=0.2.1 in /usr/local/lib/python3.7/dist-packages (from tensorflow==2.9.1) (0.4.0)\n",
            "Requirement already satisfied: packaging in /usr/local/lib/python3.7/dist-packages (from tensorflow==2.9.1) (21.3)\n",
            "Requirement already satisfied: keras<2.10.0,>=2.9.0rc0 in /usr/local/lib/python3.7/dist-packages (from tensorflow==2.9.1) (2.9.0)\n",
            "Requirement already satisfied: protobuf<3.20,>=3.9.2 in /usr/local/lib/python3.7/dist-packages (from tensorflow==2.9.1) (3.17.3)\n",
            "Requirement already satisfied: typing-extensions>=3.6.6 in /usr/local/lib/python3.7/dist-packages (from tensorflow==2.9.1) (4.1.1)\n",
            "Requirement already satisfied: google-pasta>=0.1.1 in /usr/local/lib/python3.7/dist-packages (from tensorflow==2.9.1) (0.2.0)\n",
            "Requirement already satisfied: wheel<1.0,>=0.23.0 in /usr/local/lib/python3.7/dist-packages (from astunparse>=1.6.0->tensorflow==2.9.1) (0.37.1)\n",
            "Requirement already satisfied: cached-property in /usr/local/lib/python3.7/dist-packages (from h5py>=2.9.0->tensorflow==2.9.1) (1.5.2)\n",
            "Requirement already satisfied: markdown>=2.6.8 in /usr/local/lib/python3.7/dist-packages (from tensorboard<2.10,>=2.9->tensorflow==2.9.1) (3.3.7)\n",
            "Requirement already satisfied: google-auth<3,>=1.6.3 in /usr/local/lib/python3.7/dist-packages (from tensorboard<2.10,>=2.9->tensorflow==2.9.1) (1.35.0)\n",
            "Requirement already satisfied: google-auth-oauthlib<0.5,>=0.4.1 in /usr/local/lib/python3.7/dist-packages (from tensorboard<2.10,>=2.9->tensorflow==2.9.1) (0.4.6)\n",
            "Requirement already satisfied: requests<3,>=2.21.0 in /usr/local/lib/python3.7/dist-packages (from tensorboard<2.10,>=2.9->tensorflow==2.9.1) (2.23.0)\n",
            "Requirement already satisfied: tensorboard-plugin-wit>=1.6.0 in /usr/local/lib/python3.7/dist-packages (from tensorboard<2.10,>=2.9->tensorflow==2.9.1) (1.8.1)\n",
            "Requirement already satisfied: werkzeug>=1.0.1 in /usr/local/lib/python3.7/dist-packages (from tensorboard<2.10,>=2.9->tensorflow==2.9.1) (1.0.1)\n",
            "Requirement already satisfied: tensorboard-data-server<0.7.0,>=0.6.0 in /usr/local/lib/python3.7/dist-packages (from tensorboard<2.10,>=2.9->tensorflow==2.9.1) (0.6.1)\n",
            "Requirement already satisfied: cachetools<5.0,>=2.0.0 in /usr/local/lib/python3.7/dist-packages (from google-auth<3,>=1.6.3->tensorboard<2.10,>=2.9->tensorflow==2.9.1) (4.2.4)\n",
            "Requirement already satisfied: pyasn1-modules>=0.2.1 in /usr/local/lib/python3.7/dist-packages (from google-auth<3,>=1.6.3->tensorboard<2.10,>=2.9->tensorflow==2.9.1) (0.2.8)\n",
            "Requirement already satisfied: rsa<5,>=3.1.4 in /usr/local/lib/python3.7/dist-packages (from google-auth<3,>=1.6.3->tensorboard<2.10,>=2.9->tensorflow==2.9.1) (4.8)\n",
            "Requirement already satisfied: requests-oauthlib>=0.7.0 in /usr/local/lib/python3.7/dist-packages (from google-auth-oauthlib<0.5,>=0.4.1->tensorboard<2.10,>=2.9->tensorflow==2.9.1) (1.3.1)\n",
            "Requirement already satisfied: importlib-metadata>=4.4 in /usr/local/lib/python3.7/dist-packages (from markdown>=2.6.8->tensorboard<2.10,>=2.9->tensorflow==2.9.1) (4.12.0)\n",
            "Requirement already satisfied: zipp>=0.5 in /usr/local/lib/python3.7/dist-packages (from importlib-metadata>=4.4->markdown>=2.6.8->tensorboard<2.10,>=2.9->tensorflow==2.9.1) (3.8.0)\n",
            "Requirement already satisfied: pyasn1<0.5.0,>=0.4.6 in /usr/local/lib/python3.7/dist-packages (from pyasn1-modules>=0.2.1->google-auth<3,>=1.6.3->tensorboard<2.10,>=2.9->tensorflow==2.9.1) (0.4.8)\n",
            "Requirement already satisfied: idna<3,>=2.5 in /usr/local/lib/python3.7/dist-packages (from requests<3,>=2.21.0->tensorboard<2.10,>=2.9->tensorflow==2.9.1) (2.10)\n",
            "Requirement already satisfied: certifi>=2017.4.17 in /usr/local/lib/python3.7/dist-packages (from requests<3,>=2.21.0->tensorboard<2.10,>=2.9->tensorflow==2.9.1) (2022.6.15)\n",
            "Requirement already satisfied: chardet<4,>=3.0.2 in /usr/local/lib/python3.7/dist-packages (from requests<3,>=2.21.0->tensorboard<2.10,>=2.9->tensorflow==2.9.1) (3.0.4)\n",
            "Requirement already satisfied: urllib3!=1.25.0,!=1.25.1,<1.26,>=1.21.1 in /usr/local/lib/python3.7/dist-packages (from requests<3,>=2.21.0->tensorboard<2.10,>=2.9->tensorflow==2.9.1) (1.24.3)\n",
            "Requirement already satisfied: oauthlib>=3.0.0 in /usr/local/lib/python3.7/dist-packages (from requests-oauthlib>=0.7.0->google-auth-oauthlib<0.5,>=0.4.1->tensorboard<2.10,>=2.9->tensorflow==2.9.1) (3.2.0)\n",
            "Requirement already satisfied: pyparsing!=3.0.5,>=2.0.2 in /usr/local/lib/python3.7/dist-packages (from packaging->tensorflow==2.9.1) (3.0.9)\n"
          ]
        }
      ],
      "source": [
        "!pip install tensorflow==2.9.1"
      ]
    },
    {
      "cell_type": "code",
      "execution_count": null,
      "metadata": {
        "id": "4jqGSzrz2-JG",
        "vscode": {
          "languageId": "python"
        }
      },
      "outputs": [],
      "source": [
        "# Import necessary libraries\n",
        "import tensorflow as tf\n",
        "import numpy as np\n",
        "import pandas as pd\n",
        "import matplotlib.pyplot as plt\n",
        "from sklearn.model_selection import train_test_split\n",
        "from tensorflow.keras import Model\n",
        "from tensorflow.keras.layers import Input, Embedding, Dense"
      ]
    },
    {
      "cell_type": "markdown",
      "metadata": {
        "id": "7w9WOXJG2-JH"
      },
      "source": [
        "Read CSV file"
      ]
    },
    {
      "cell_type": "code",
      "execution_count": null,
      "metadata": {
        "id": "be7hEZTS2-JI",
        "vscode": {
          "languageId": "python"
        }
      },
      "outputs": [],
      "source": [
        "df = pd.read_csv('./ner_dataset.csv', encoding= 'unicode_escape', usecols=['Sentence #','Word','Tag'])"
      ]
    },
    {
      "cell_type": "markdown",
      "metadata": {
        "id": "D0PGliwv2-JI"
      },
      "source": [
        "The dataset contains all the sentences, with each word tagged. </br>\n",
        "The tags can be:\n",
        "* geo = Geographical Entity\n",
        "* org = Organization\n",
        "* per = Person\n",
        "* gpe = Geopolitical Entity\n",
        "* tim = Time indicator\n",
        "* art = Artifact\n",
        "* eve = Event\n",
        "* nat = Natural Phenomenon\n",
        "\n",
        "Extract each sentence and transform it into an adequate format.  You can use **df.fillna(method='ffill', inplace=True)** to fill the NaN values and extract the values easily.</br>\n"
      ]
    },
    {
      "cell_type": "code",
      "execution_count": null,
      "metadata": {
        "colab": {
          "base_uri": "https://localhost:8080/",
          "height": 237
        },
        "id": "Eel6Qubj2-JJ",
        "outputId": "053effab-f553-466d-f1b6-88f0e3f08146",
        "vscode": {
          "languageId": "python"
        }
      },
      "outputs": [
        {
          "data": {
            "text/html": [
              "\n",
              "  <div id=\"df-e48de19b-4f3a-413b-831c-180ae027da4b\">\n",
              "    <div class=\"colab-df-container\">\n",
              "      <div>\n",
              "<style scoped>\n",
              "    .dataframe tbody tr th:only-of-type {\n",
              "        vertical-align: middle;\n",
              "    }\n",
              "\n",
              "    .dataframe tbody tr th {\n",
              "        vertical-align: top;\n",
              "    }\n",
              "\n",
              "    .dataframe thead th {\n",
              "        text-align: right;\n",
              "    }\n",
              "</style>\n",
              "<table border=\"1\" class=\"dataframe\">\n",
              "  <thead>\n",
              "    <tr style=\"text-align: right;\">\n",
              "      <th></th>\n",
              "      <th>Word</th>\n",
              "      <th>Tag</th>\n",
              "    </tr>\n",
              "    <tr>\n",
              "      <th>Sentence #</th>\n",
              "      <th></th>\n",
              "      <th></th>\n",
              "    </tr>\n",
              "  </thead>\n",
              "  <tbody>\n",
              "    <tr>\n",
              "      <th>1</th>\n",
              "      <td>Thousands</td>\n",
              "      <td>O</td>\n",
              "    </tr>\n",
              "    <tr>\n",
              "      <th>1</th>\n",
              "      <td>of</td>\n",
              "      <td>O</td>\n",
              "    </tr>\n",
              "    <tr>\n",
              "      <th>1</th>\n",
              "      <td>demonstrators</td>\n",
              "      <td>O</td>\n",
              "    </tr>\n",
              "    <tr>\n",
              "      <th>1</th>\n",
              "      <td>have</td>\n",
              "      <td>O</td>\n",
              "    </tr>\n",
              "    <tr>\n",
              "      <th>1</th>\n",
              "      <td>marched</td>\n",
              "      <td>O</td>\n",
              "    </tr>\n",
              "  </tbody>\n",
              "</table>\n",
              "</div>\n",
              "      <button class=\"colab-df-convert\" onclick=\"convertToInteractive('df-e48de19b-4f3a-413b-831c-180ae027da4b')\"\n",
              "              title=\"Convert this dataframe to an interactive table.\"\n",
              "              style=\"display:none;\">\n",
              "        \n",
              "  <svg xmlns=\"http://www.w3.org/2000/svg\" height=\"24px\"viewBox=\"0 0 24 24\"\n",
              "       width=\"24px\">\n",
              "    <path d=\"M0 0h24v24H0V0z\" fill=\"none\"/>\n",
              "    <path d=\"M18.56 5.44l.94 2.06.94-2.06 2.06-.94-2.06-.94-.94-2.06-.94 2.06-2.06.94zm-11 1L8.5 8.5l.94-2.06 2.06-.94-2.06-.94L8.5 2.5l-.94 2.06-2.06.94zm10 10l.94 2.06.94-2.06 2.06-.94-2.06-.94-.94-2.06-.94 2.06-2.06.94z\"/><path d=\"M17.41 7.96l-1.37-1.37c-.4-.4-.92-.59-1.43-.59-.52 0-1.04.2-1.43.59L10.3 9.45l-7.72 7.72c-.78.78-.78 2.05 0 2.83L4 21.41c.39.39.9.59 1.41.59.51 0 1.02-.2 1.41-.59l7.78-7.78 2.81-2.81c.8-.78.8-2.07 0-2.86zM5.41 20L4 18.59l7.72-7.72 1.47 1.35L5.41 20z\"/>\n",
              "  </svg>\n",
              "      </button>\n",
              "      \n",
              "  <style>\n",
              "    .colab-df-container {\n",
              "      display:flex;\n",
              "      flex-wrap:wrap;\n",
              "      gap: 12px;\n",
              "    }\n",
              "\n",
              "    .colab-df-convert {\n",
              "      background-color: #E8F0FE;\n",
              "      border: none;\n",
              "      border-radius: 50%;\n",
              "      cursor: pointer;\n",
              "      display: none;\n",
              "      fill: #1967D2;\n",
              "      height: 32px;\n",
              "      padding: 0 0 0 0;\n",
              "      width: 32px;\n",
              "    }\n",
              "\n",
              "    .colab-df-convert:hover {\n",
              "      background-color: #E2EBFA;\n",
              "      box-shadow: 0px 1px 2px rgba(60, 64, 67, 0.3), 0px 1px 3px 1px rgba(60, 64, 67, 0.15);\n",
              "      fill: #174EA6;\n",
              "    }\n",
              "\n",
              "    [theme=dark] .colab-df-convert {\n",
              "      background-color: #3B4455;\n",
              "      fill: #D2E3FC;\n",
              "    }\n",
              "\n",
              "    [theme=dark] .colab-df-convert:hover {\n",
              "      background-color: #434B5C;\n",
              "      box-shadow: 0px 1px 3px 1px rgba(0, 0, 0, 0.15);\n",
              "      filter: drop-shadow(0px 1px 2px rgba(0, 0, 0, 0.3));\n",
              "      fill: #FFFFFF;\n",
              "    }\n",
              "  </style>\n",
              "\n",
              "      <script>\n",
              "        const buttonEl =\n",
              "          document.querySelector('#df-e48de19b-4f3a-413b-831c-180ae027da4b button.colab-df-convert');\n",
              "        buttonEl.style.display =\n",
              "          google.colab.kernel.accessAllowed ? 'block' : 'none';\n",
              "\n",
              "        async function convertToInteractive(key) {\n",
              "          const element = document.querySelector('#df-e48de19b-4f3a-413b-831c-180ae027da4b');\n",
              "          const dataTable =\n",
              "            await google.colab.kernel.invokeFunction('convertToInteractive',\n",
              "                                                     [key], {});\n",
              "          if (!dataTable) return;\n",
              "\n",
              "          const docLinkHtml = 'Like what you see? Visit the ' +\n",
              "            '<a target=\"_blank\" href=https://colab.research.google.com/notebooks/data_table.ipynb>data table notebook</a>'\n",
              "            + ' to learn more about interactive tables.';\n",
              "          element.innerHTML = '';\n",
              "          dataTable['output_type'] = 'display_data';\n",
              "          await google.colab.output.renderOutput(dataTable, element);\n",
              "          const docLink = document.createElement('div');\n",
              "          docLink.innerHTML = docLinkHtml;\n",
              "          element.appendChild(docLink);\n",
              "        }\n",
              "      </script>\n",
              "    </div>\n",
              "  </div>\n",
              "  "
            ],
            "text/plain": [
              "                     Word Tag\n",
              "Sentence #                   \n",
              "1               Thousands   O\n",
              "1                      of   O\n",
              "1           demonstrators   O\n",
              "1                    have   O\n",
              "1                 marched   O"
            ]
          },
          "execution_count": 69,
          "metadata": {},
          "output_type": "execute_result"
        }
      ],
      "source": [
        "df.fillna(method='ffill', inplace=True)\n",
        "df['Sentence #'] = df['Sentence #'].str.replace('Sentence: ','').astype(int)\n",
        "df.set_index('Sentence #', inplace=True)\n",
        "df.head()"
      ]
    },
    {
      "cell_type": "code",
      "execution_count": null,
      "metadata": {
        "id": "tW51GBF02-JK",
        "vscode": {
          "languageId": "python"
        }
      },
      "outputs": [],
      "source": [
        "index, length = np.unique(df.index, return_counts=True)\n",
        "\n",
        "b1 = length>15\n",
        "b2 = length<30\n",
        "b = np.logical_and(b1, b2)\n",
        "\n",
        "index = index[b]\n",
        "length = length[b]\n",
        "\n",
        "df = df.loc[index]"
      ]
    },
    {
      "cell_type": "code",
      "execution_count": null,
      "metadata": {
        "id": "3OzyKra02-JK",
        "vscode": {
          "languageId": "python"
        }
      },
      "outputs": [],
      "source": [
        "index = np.unique(df.index)\n",
        "\n",
        "train_index, val_index = train_test_split(index, train_size=0.8)\n",
        "\n",
        "df_train = df.loc[train_index]\n",
        "df_val = df.loc[val_index]"
      ]
    },
    {
      "cell_type": "code",
      "execution_count": null,
      "metadata": {
        "colab": {
          "base_uri": "https://localhost:8080/",
          "height": 592
        },
        "id": "EAHOvz3x2-JL",
        "outputId": "25b31694-f467-4086-ac31-edd53eb0f632",
        "vscode": {
          "languageId": "python"
        }
      },
      "outputs": [
        {
          "data": {
            "image/png": "[encoded data removed]",
            "text/plain": [
              "<Figure size 1080x720 with 1 Axes>"
            ]
          },
          "metadata": {
            "needs_background": "light"
          },
          "output_type": "display_data"
        }
      ],
      "source": [
        "\n",
        "plt.figure(figsize=(15,10))\n",
        "plt.hist(df_train.Tag, log=True)\n",
        "plt.show()"
      ]
    },
    {
      "cell_type": "markdown",
      "metadata": {
        "id": "5PYOrpoF2-JL"
      },
      "source": [
        "<b>Ex 2: Transform the input </b>\n",
        "\n",
        "We know that words need to be transformed into numerical form. Transform the _tags_ and words into numbers. </br>\n",
        "\n",
        "The tags should be one-hot encoded if you are using categorical_crossentropy, otherwise use sparse_categorical_crossentropy. </br>\n",
        "\n",
        "Select sentences with more than 15 and less than 30 words.\n",
        "\n",
        "For simplicity, pad the sequences with less than 30 words with 0s. **tf.keras.utils.pad_sequences** might be useful.\n",
        "\n",
        "Create a test set to show your results."
      ]
    },
    {
      "cell_type": "code",
      "execution_count": null,
      "metadata": {
        "id": "_v4F0hpU2-JM",
        "vscode": {
          "languageId": "python"
        }
      },
      "outputs": [],
      "source": [
        "tok = tf.keras.preprocessing.text.Tokenizer()\n"
      ]
    },
    {
      "cell_type": "code",
      "execution_count": null,
      "metadata": {
        "colab": {
          "base_uri": "https://localhost:8080/",
          "height": 237
        },
        "id": "QSIST6MD2-JM",
        "outputId": "55aa50e2-5317-445c-ac96-d9cf2f06ba19",
        "vscode": {
          "languageId": "python"
        }
      },
      "outputs": [
        {
          "data": {
            "text/html": [
              "\n",
              "  <div id=\"df-0f2ba56a-4d81-4d39-9f2b-add4899d1214\">\n",
              "    <div class=\"colab-df-container\">\n",
              "      <div>\n",
              "<style scoped>\n",
              "    .dataframe tbody tr th:only-of-type {\n",
              "        vertical-align: middle;\n",
              "    }\n",
              "\n",
              "    .dataframe tbody tr th {\n",
              "        vertical-align: top;\n",
              "    }\n",
              "\n",
              "    .dataframe thead th {\n",
              "        text-align: right;\n",
              "    }\n",
              "</style>\n",
              "<table border=\"1\" class=\"dataframe\">\n",
              "  <thead>\n",
              "    <tr style=\"text-align: right;\">\n",
              "      <th></th>\n",
              "      <th>Word</th>\n",
              "      <th>Tag</th>\n",
              "    </tr>\n",
              "    <tr>\n",
              "      <th>Sentence #</th>\n",
              "      <th></th>\n",
              "      <th></th>\n",
              "    </tr>\n",
              "  </thead>\n",
              "  <tbody>\n",
              "    <tr>\n",
              "      <th>22698</th>\n",
              "      <td>Russia</td>\n",
              "      <td>B-geo</td>\n",
              "    </tr>\n",
              "    <tr>\n",
              "      <th>22698</th>\n",
              "      <td>,</td>\n",
              "      <td>O</td>\n",
              "    </tr>\n",
              "    <tr>\n",
              "      <th>22698</th>\n",
              "      <td>a</td>\n",
              "      <td>O</td>\n",
              "    </tr>\n",
              "    <tr>\n",
              "      <th>22698</th>\n",
              "      <td>major</td>\n",
              "      <td>O</td>\n",
              "    </tr>\n",
              "    <tr>\n",
              "      <th>22698</th>\n",
              "      <td>non-OPEC</td>\n",
              "      <td>O</td>\n",
              "    </tr>\n",
              "  </tbody>\n",
              "</table>\n",
              "</div>\n",
              "      <button class=\"colab-df-convert\" onclick=\"convertToInteractive('df-0f2ba56a-4d81-4d39-9f2b-add4899d1214')\"\n",
              "              title=\"Convert this dataframe to an interactive table.\"\n",
              "              style=\"display:none;\">\n",
              "        \n",
              "  <svg xmlns=\"http://www.w3.org/2000/svg\" height=\"24px\"viewBox=\"0 0 24 24\"\n",
              "       width=\"24px\">\n",
              "    <path d=\"M0 0h24v24H0V0z\" fill=\"none\"/>\n",
              "    <path d=\"M18.56 5.44l.94 2.06.94-2.06 2.06-.94-2.06-.94-.94-2.06-.94 2.06-2.06.94zm-11 1L8.5 8.5l.94-2.06 2.06-.94-2.06-.94L8.5 2.5l-.94 2.06-2.06.94zm10 10l.94 2.06.94-2.06 2.06-.94-2.06-.94-.94-2.06-.94 2.06-2.06.94z\"/><path d=\"M17.41 7.96l-1.37-1.37c-.4-.4-.92-.59-1.43-.59-.52 0-1.04.2-1.43.59L10.3 9.45l-7.72 7.72c-.78.78-.78 2.05 0 2.83L4 21.41c.39.39.9.59 1.41.59.51 0 1.02-.2 1.41-.59l7.78-7.78 2.81-2.81c.8-.78.8-2.07 0-2.86zM5.41 20L4 18.59l7.72-7.72 1.47 1.35L5.41 20z\"/>\n",
              "  </svg>\n",
              "      </button>\n",
              "      \n",
              "  <style>\n",
              "    .colab-df-container {\n",
              "      display:flex;\n",
              "      flex-wrap:wrap;\n",
              "      gap: 12px;\n",
              "    }\n",
              "\n",
              "    .colab-df-convert {\n",
              "      background-color: #E8F0FE;\n",
              "      border: none;\n",
              "      border-radius: 50%;\n",
              "      cursor: pointer;\n",
              "      display: none;\n",
              "      fill: #1967D2;\n",
              "      height: 32px;\n",
              "      padding: 0 0 0 0;\n",
              "      width: 32px;\n",
              "    }\n",
              "\n",
              "    .colab-df-convert:hover {\n",
              "      background-color: #E2EBFA;\n",
              "      box-shadow: 0px 1px 2px rgba(60, 64, 67, 0.3), 0px 1px 3px 1px rgba(60, 64, 67, 0.15);\n",
              "      fill: #174EA6;\n",
              "    }\n",
              "\n",
              "    [theme=dark] .colab-df-convert {\n",
              "      background-color: #3B4455;\n",
              "      fill: #D2E3FC;\n",
              "    }\n",
              "\n",
              "    [theme=dark] .colab-df-convert:hover {\n",
              "      background-color: #434B5C;\n",
              "      box-shadow: 0px 1px 3px 1px rgba(0, 0, 0, 0.15);\n",
              "      filter: drop-shadow(0px 1px 2px rgba(0, 0, 0, 0.3));\n",
              "      fill: #FFFFFF;\n",
              "    }\n",
              "  </style>\n",
              "\n",
              "      <script>\n",
              "        const buttonEl =\n",
              "          document.querySelector('#df-0f2ba56a-4d81-4d39-9f2b-add4899d1214 button.colab-df-convert');\n",
              "        buttonEl.style.display =\n",
              "          google.colab.kernel.accessAllowed ? 'block' : 'none';\n",
              "\n",
              "        async function convertToInteractive(key) {\n",
              "          const element = document.querySelector('#df-0f2ba56a-4d81-4d39-9f2b-add4899d1214');\n",
              "          const dataTable =\n",
              "            await google.colab.kernel.invokeFunction('convertToInteractive',\n",
              "                                                     [key], {});\n",
              "          if (!dataTable) return;\n",
              "\n",
              "          const docLinkHtml = 'Like what you see? Visit the ' +\n",
              "            '<a target=\"_blank\" href=https://colab.research.google.com/notebooks/data_table.ipynb>data table notebook</a>'\n",
              "            + ' to learn more about interactive tables.';\n",
              "          element.innerHTML = '';\n",
              "          dataTable['output_type'] = 'display_data';\n",
              "          await google.colab.output.renderOutput(dataTable, element);\n",
              "          const docLink = document.createElement('div');\n",
              "          docLink.innerHTML = docLinkHtml;\n",
              "          element.appendChild(docLink);\n",
              "        }\n",
              "      </script>\n",
              "    </div>\n",
              "  </div>\n",
              "  "
            ],
            "text/plain": [
              "                Word    Tag\n",
              "Sentence #                 \n",
              "22698         Russia  B-geo\n",
              "22698              ,      O\n",
              "22698              a      O\n",
              "22698          major      O\n",
              "22698       non-OPEC      O"
            ]
          },
          "execution_count": 74,
          "metadata": {},
          "output_type": "execute_result"
        }
      ],
      "source": [
        "df_train.head()"
      ]
    },
    {
      "cell_type": "code",
      "execution_count": null,
      "metadata": {
        "id": "uXN5C-qC2-JN",
        "vscode": {
          "languageId": "python"
        }
      },
      "outputs": [],
      "source": [
        "tok.fit_on_texts(df_train.Word)\n",
        "df_train['sequence'] = tok.texts_to_sequences(df_train.Word)\n",
        "df_val['sequence'] = tok.texts_to_sequences(df_val.Word)\n"
      ]
    },
    {
      "cell_type": "code",
      "execution_count": null,
      "metadata": {
        "id": "7KeT1Ygx2-JN",
        "vscode": {
          "languageId": "python"
        }
      },
      "outputs": [],
      "source": [
        "import sklearn\n",
        "le = sklearn.preprocessing.LabelEncoder()\n",
        "df_train['target'] = le.fit_transform(df_train.Tag)\n",
        "df_val['target'] = le.transform(df_val.Tag)\n"
      ]
    },
    {
      "cell_type": "code",
      "execution_count": null,
      "metadata": {
        "colab": {
          "base_uri": "https://localhost:8080/",
          "height": 237
        },
        "id": "96tGlehh2-JO",
        "outputId": "68411664-c87c-490a-f4c1-0ca4006a74ff",
        "vscode": {
          "languageId": "python"
        }
      },
      "outputs": [
        {
          "data": {
            "text/html": [
              "\n",
              "  <div id=\"df-1b9bddc2-9059-4d61-9a56-9bd39e283383\">\n",
              "    <div class=\"colab-df-container\">\n",
              "      <div>\n",
              "<style scoped>\n",
              "    .dataframe tbody tr th:only-of-type {\n",
              "        vertical-align: middle;\n",
              "    }\n",
              "\n",
              "    .dataframe tbody tr th {\n",
              "        vertical-align: top;\n",
              "    }\n",
              "\n",
              "    .dataframe thead th {\n",
              "        text-align: right;\n",
              "    }\n",
              "</style>\n",
              "<table border=\"1\" class=\"dataframe\">\n",
              "  <thead>\n",
              "    <tr style=\"text-align: right;\">\n",
              "      <th></th>\n",
              "      <th>Word</th>\n",
              "      <th>Tag</th>\n",
              "      <th>sequence</th>\n",
              "      <th>target</th>\n",
              "    </tr>\n",
              "    <tr>\n",
              "      <th>Sentence #</th>\n",
              "      <th></th>\n",
              "      <th></th>\n",
              "      <th></th>\n",
              "      <th></th>\n",
              "    </tr>\n",
              "  </thead>\n",
              "  <tbody>\n",
              "    <tr>\n",
              "      <th>22698</th>\n",
              "      <td>Russia</td>\n",
              "      <td>B-geo</td>\n",
              "      <td>[206]</td>\n",
              "      <td>2</td>\n",
              "    </tr>\n",
              "    <tr>\n",
              "      <th>22698</th>\n",
              "      <td>,</td>\n",
              "      <td>O</td>\n",
              "      <td>[]</td>\n",
              "      <td>16</td>\n",
              "    </tr>\n",
              "    <tr>\n",
              "      <th>22698</th>\n",
              "      <td>a</td>\n",
              "      <td>O</td>\n",
              "      <td>[4]</td>\n",
              "      <td>16</td>\n",
              "    </tr>\n",
              "    <tr>\n",
              "      <th>22698</th>\n",
              "      <td>major</td>\n",
              "      <td>O</td>\n",
              "      <td>[311]</td>\n",
              "      <td>16</td>\n",
              "    </tr>\n",
              "    <tr>\n",
              "      <th>22698</th>\n",
              "      <td>non-OPEC</td>\n",
              "      <td>O</td>\n",
              "      <td>[740, 2044]</td>\n",
              "      <td>16</td>\n",
              "    </tr>\n",
              "  </tbody>\n",
              "</table>\n",
              "</div>\n",
              "      <button class=\"colab-df-convert\" onclick=\"convertToInteractive('df-1b9bddc2-9059-4d61-9a56-9bd39e283383')\"\n",
              "              title=\"Convert this dataframe to an interactive table.\"\n",
              "              style=\"display:none;\">\n",
              "        \n",
              "  <svg xmlns=\"http://www.w3.org/2000/svg\" height=\"24px\"viewBox=\"0 0 24 24\"\n",
              "       width=\"24px\">\n",
              "    <path d=\"M0 0h24v24H0V0z\" fill=\"none\"/>\n",
              "    <path d=\"M18.56 5.44l.94 2.06.94-2.06 2.06-.94-2.06-.94-.94-2.06-.94 2.06-2.06.94zm-11 1L8.5 8.5l.94-2.06 2.06-.94-2.06-.94L8.5 2.5l-.94 2.06-2.06.94zm10 10l.94 2.06.94-2.06 2.06-.94-2.06-.94-.94-2.06-.94 2.06-2.06.94z\"/><path d=\"M17.41 7.96l-1.37-1.37c-.4-.4-.92-.59-1.43-.59-.52 0-1.04.2-1.43.59L10.3 9.45l-7.72 7.72c-.78.78-.78 2.05 0 2.83L4 21.41c.39.39.9.59 1.41.59.51 0 1.02-.2 1.41-.59l7.78-7.78 2.81-2.81c.8-.78.8-2.07 0-2.86zM5.41 20L4 18.59l7.72-7.72 1.47 1.35L5.41 20z\"/>\n",
              "  </svg>\n",
              "      </button>\n",
              "      \n",
              "  <style>\n",
              "    .colab-df-container {\n",
              "      display:flex;\n",
              "      flex-wrap:wrap;\n",
              "      gap: 12px;\n",
              "    }\n",
              "\n",
              "    .colab-df-convert {\n",
              "      background-color: #E8F0FE;\n",
              "      border: none;\n",
              "      border-radius: 50%;\n",
              "      cursor: pointer;\n",
              "      display: none;\n",
              "      fill: #1967D2;\n",
              "      height: 32px;\n",
              "      padding: 0 0 0 0;\n",
              "      width: 32px;\n",
              "    }\n",
              "\n",
              "    .colab-df-convert:hover {\n",
              "      background-color: #E2EBFA;\n",
              "      box-shadow: 0px 1px 2px rgba(60, 64, 67, 0.3), 0px 1px 3px 1px rgba(60, 64, 67, 0.15);\n",
              "      fill: #174EA6;\n",
              "    }\n",
              "\n",
              "    [theme=dark] .colab-df-convert {\n",
              "      background-color: #3B4455;\n",
              "      fill: #D2E3FC;\n",
              "    }\n",
              "\n",
              "    [theme=dark] .colab-df-convert:hover {\n",
              "      background-color: #434B5C;\n",
              "      box-shadow: 0px 1px 3px 1px rgba(0, 0, 0, 0.15);\n",
              "      filter: drop-shadow(0px 1px 2px rgba(0, 0, 0, 0.3));\n",
              "      fill: #FFFFFF;\n",
              "    }\n",
              "  </style>\n",
              "\n",
              "      <script>\n",
              "        const buttonEl =\n",
              "          document.querySelector('#df-1b9bddc2-9059-4d61-9a56-9bd39e283383 button.colab-df-convert');\n",
              "        buttonEl.style.display =\n",
              "          google.colab.kernel.accessAllowed ? 'block' : 'none';\n",
              "\n",
              "        async function convertToInteractive(key) {\n",
              "          const element = document.querySelector('#df-1b9bddc2-9059-4d61-9a56-9bd39e283383');\n",
              "          const dataTable =\n",
              "            await google.colab.kernel.invokeFunction('convertToInteractive',\n",
              "                                                     [key], {});\n",
              "          if (!dataTable) return;\n",
              "\n",
              "          const docLinkHtml = 'Like what you see? Visit the ' +\n",
              "            '<a target=\"_blank\" href=https://colab.research.google.com/notebooks/data_table.ipynb>data table notebook</a>'\n",
              "            + ' to learn more about interactive tables.';\n",
              "          element.innerHTML = '';\n",
              "          dataTable['output_type'] = 'display_data';\n",
              "          await google.colab.output.renderOutput(dataTable, element);\n",
              "          const docLink = document.createElement('div');\n",
              "          docLink.innerHTML = docLinkHtml;\n",
              "          element.appendChild(docLink);\n",
              "        }\n",
              "      </script>\n",
              "    </div>\n",
              "  </div>\n",
              "  "
            ],
            "text/plain": [
              "                Word    Tag     sequence  target\n",
              "Sentence #                                      \n",
              "22698         Russia  B-geo        [206]       2\n",
              "22698              ,      O           []      16\n",
              "22698              a      O          [4]      16\n",
              "22698          major      O        [311]      16\n",
              "22698       non-OPEC      O  [740, 2044]      16"
            ]
          },
          "execution_count": 77,
          "metadata": {},
          "output_type": "execute_result"
        }
      ],
      "source": [
        "df_train.head()"
      ]
    },
    {
      "cell_type": "code",
      "execution_count": null,
      "metadata": {
        "colab": {
          "base_uri": "https://localhost:8080/",
          "height": 426
        },
        "id": "QDKDrrGA2-JO",
        "outputId": "d7490c0d-826c-41cb-890a-92c8ba36317f",
        "vscode": {
          "languageId": "python"
        }
      },
      "outputs": [
        {
          "name": "stderr",
          "output_type": "stream",
          "text": [
            "/usr/local/lib/python3.7/dist-packages/ipykernel_launcher.py:3: FutureWarning: Indexing with multiple keys (implicitly converted to a tuple of keys) will be deprecated, use a list instead.\n",
            "  This is separate from the ipykernel package so we can avoid doing imports until\n",
            "/usr/local/lib/python3.7/dist-packages/ipykernel_launcher.py:7: FutureWarning: Indexing with multiple keys (implicitly converted to a tuple of keys) will be deprecated, use a list instead.\n",
            "  import sys\n"
          ]
        },
        {
          "data": {
            "text/html": [
              "\n",
              "  <div id=\"df-8d73b16f-8ae9-4831-ab18-e373f3c5ae1e\">\n",
              "    <div class=\"colab-df-container\">\n",
              "      <div>\n",
              "<style scoped>\n",
              "    .dataframe tbody tr th:only-of-type {\n",
              "        vertical-align: middle;\n",
              "    }\n",
              "\n",
              "    .dataframe tbody tr th {\n",
              "        vertical-align: top;\n",
              "    }\n",
              "\n",
              "    .dataframe thead th {\n",
              "        text-align: right;\n",
              "    }\n",
              "</style>\n",
              "<table border=\"1\" class=\"dataframe\">\n",
              "  <thead>\n",
              "    <tr style=\"text-align: right;\">\n",
              "      <th></th>\n",
              "      <th>sequence</th>\n",
              "      <th>Word</th>\n",
              "      <th>Tag</th>\n",
              "      <th>target</th>\n",
              "    </tr>\n",
              "  </thead>\n",
              "  <tbody>\n",
              "    <tr>\n",
              "      <th>0</th>\n",
              "      <td>[259, 3, 904, 14, 1478, 245, 472, 5, 480, 1, 1...</td>\n",
              "      <td>[Thousands, of, demonstrators, have, marched, ...</td>\n",
              "      <td>[O, O, O, O, O, O, B-geo, O, O, O, O, O, B-geo...</td>\n",
              "      <td>[16, 16, 16, 16, 16, 16, 2, 16, 16, 16, 16, 16...</td>\n",
              "    </tr>\n",
              "    <tr>\n",
              "      <th>1</th>\n",
              "      <td>[1, 141, 11, 1623, 84, 414, 7, 3167, 2, 1, 58,...</td>\n",
              "      <td>[The, party, is, divided, over, Britain, 's, p...</td>\n",
              "      <td>[O, O, O, O, O, B-gpe, O, O, O, O, B-geo, O, O...</td>\n",
              "      <td>[16, 16, 16, 16, 16, 3, 16, 16, 16, 16, 2, 16,...</td>\n",
              "    </tr>\n",
              "    <tr>\n",
              "      <th>2</th>\n",
              "      <td>[1, 472, 375, 331, 555, 3, 329, 122, 464, 446,...</td>\n",
              "      <td>[The, London, march, came, ahead, of, anti-war...</td>\n",
              "      <td>[O, B-geo, O, O, O, O, O, O, O, O, O, O, O, O,...</td>\n",
              "      <td>[16, 2, 16, 16, 16, 16, 16, 16, 16, 16, 16, 16...</td>\n",
              "    </tr>\n",
              "    <tr>\n",
              "      <th>3</th>\n",
              "      <td>[1, 115, 946, 310, 143, 11, 5, 627, 293, 132, ...</td>\n",
              "      <td>[The, International, Atomic, Energy, Agency, i...</td>\n",
              "      <td>[O, B-org, I-org, I-org, I-org, O, O, O, O, O,...</td>\n",
              "      <td>[16, 5, 13, 13, 13, 16, 16, 16, 16, 16, 16, 16...</td>\n",
              "    </tr>\n",
              "    <tr>\n",
              "      <th>4</th>\n",
              "      <td>[297, 28, 22, 43, 1831, 5, 887, 1054, 5, 4369,...</td>\n",
              "      <td>[Iranian, officials, say, they, expect, to, ge...</td>\n",
              "      <td>[B-gpe, O, O, O, O, O, O, O, O, O, O, O, O, O,...</td>\n",
              "      <td>[3, 16, 16, 16, 16, 16, 16, 16, 16, 16, 16, 16...</td>\n",
              "    </tr>\n",
              "  </tbody>\n",
              "</table>\n",
              "</div>\n",
              "      <button class=\"colab-df-convert\" onclick=\"convertToInteractive('df-8d73b16f-8ae9-4831-ab18-e373f3c5ae1e')\"\n",
              "              title=\"Convert this dataframe to an interactive table.\"\n",
              "              style=\"display:none;\">\n",
              "        \n",
              "  <svg xmlns=\"http://www.w3.org/2000/svg\" height=\"24px\"viewBox=\"0 0 24 24\"\n",
              "       width=\"24px\">\n",
              "    <path d=\"M0 0h24v24H0V0z\" fill=\"none\"/>\n",
              "    <path d=\"M18.56 5.44l.94 2.06.94-2.06 2.06-.94-2.06-.94-.94-2.06-.94 2.06-2.06.94zm-11 1L8.5 8.5l.94-2.06 2.06-.94-2.06-.94L8.5 2.5l-.94 2.06-2.06.94zm10 10l.94 2.06.94-2.06 2.06-.94-2.06-.94-.94-2.06-.94 2.06-2.06.94z\"/><path d=\"M17.41 7.96l-1.37-1.37c-.4-.4-.92-.59-1.43-.59-.52 0-1.04.2-1.43.59L10.3 9.45l-7.72 7.72c-.78.78-.78 2.05 0 2.83L4 21.41c.39.39.9.59 1.41.59.51 0 1.02-.2 1.41-.59l7.78-7.78 2.81-2.81c.8-.78.8-2.07 0-2.86zM5.41 20L4 18.59l7.72-7.72 1.47 1.35L5.41 20z\"/>\n",
              "  </svg>\n",
              "      </button>\n",
              "      \n",
              "  <style>\n",
              "    .colab-df-container {\n",
              "      display:flex;\n",
              "      flex-wrap:wrap;\n",
              "      gap: 12px;\n",
              "    }\n",
              "\n",
              "    .colab-df-convert {\n",
              "      background-color: #E8F0FE;\n",
              "      border: none;\n",
              "      border-radius: 50%;\n",
              "      cursor: pointer;\n",
              "      display: none;\n",
              "      fill: #1967D2;\n",
              "      height: 32px;\n",
              "      padding: 0 0 0 0;\n",
              "      width: 32px;\n",
              "    }\n",
              "\n",
              "    .colab-df-convert:hover {\n",
              "      background-color: #E2EBFA;\n",
              "      box-shadow: 0px 1px 2px rgba(60, 64, 67, 0.3), 0px 1px 3px 1px rgba(60, 64, 67, 0.15);\n",
              "      fill: #174EA6;\n",
              "    }\n",
              "\n",
              "    [theme=dark] .colab-df-convert {\n",
              "      background-color: #3B4455;\n",
              "      fill: #D2E3FC;\n",
              "    }\n",
              "\n",
              "    [theme=dark] .colab-df-convert:hover {\n",
              "      background-color: #434B5C;\n",
              "      box-shadow: 0px 1px 3px 1px rgba(0, 0, 0, 0.15);\n",
              "      filter: drop-shadow(0px 1px 2px rgba(0, 0, 0, 0.3));\n",
              "      fill: #FFFFFF;\n",
              "    }\n",
              "  </style>\n",
              "\n",
              "      <script>\n",
              "        const buttonEl =\n",
              "          document.querySelector('#df-8d73b16f-8ae9-4831-ab18-e373f3c5ae1e button.colab-df-convert');\n",
              "        buttonEl.style.display =\n",
              "          google.colab.kernel.accessAllowed ? 'block' : 'none';\n",
              "\n",
              "        async function convertToInteractive(key) {\n",
              "          const element = document.querySelector('#df-8d73b16f-8ae9-4831-ab18-e373f3c5ae1e');\n",
              "          const dataTable =\n",
              "            await google.colab.kernel.invokeFunction('convertToInteractive',\n",
              "                                                     [key], {});\n",
              "          if (!dataTable) return;\n",
              "\n",
              "          const docLinkHtml = 'Like what you see? Visit the ' +\n",
              "            '<a target=\"_blank\" href=https://colab.research.google.com/notebooks/data_table.ipynb>data table notebook</a>'\n",
              "            + ' to learn more about interactive tables.';\n",
              "          element.innerHTML = '';\n",
              "          dataTable['output_type'] = 'display_data';\n",
              "          await google.colab.output.renderOutput(dataTable, element);\n",
              "          const docLink = document.createElement('div');\n",
              "          docLink.innerHTML = docLinkHtml;\n",
              "          element.appendChild(docLink);\n",
              "        }\n",
              "      </script>\n",
              "    </div>\n",
              "  </div>\n",
              "  "
            ],
            "text/plain": [
              "                                            sequence  \\\n",
              "0  [259, 3, 904, 14, 1478, 245, 472, 5, 480, 1, 1...   \n",
              "1  [1, 141, 11, 1623, 84, 414, 7, 3167, 2, 1, 58,...   \n",
              "2  [1, 472, 375, 331, 555, 3, 329, 122, 464, 446,...   \n",
              "3  [1, 115, 946, 310, 143, 11, 5, 627, 293, 132, ...   \n",
              "4  [297, 28, 22, 43, 1831, 5, 887, 1054, 5, 4369,...   \n",
              "\n",
              "                                                Word  \\\n",
              "0  [Thousands, of, demonstrators, have, marched, ...   \n",
              "1  [The, party, is, divided, over, Britain, 's, p...   \n",
              "2  [The, London, march, came, ahead, of, anti-war...   \n",
              "3  [The, International, Atomic, Energy, Agency, i...   \n",
              "4  [Iranian, officials, say, they, expect, to, ge...   \n",
              "\n",
              "                                                 Tag  \\\n",
              "0  [O, O, O, O, O, O, B-geo, O, O, O, O, O, B-geo...   \n",
              "1  [O, O, O, O, O, B-gpe, O, O, O, O, B-geo, O, O...   \n",
              "2  [O, B-geo, O, O, O, O, O, O, O, O, O, O, O, O,...   \n",
              "3  [O, B-org, I-org, I-org, I-org, O, O, O, O, O,...   \n",
              "4  [B-gpe, O, O, O, O, O, O, O, O, O, O, O, O, O,...   \n",
              "\n",
              "                                              target  \n",
              "0  [16, 16, 16, 16, 16, 16, 2, 16, 16, 16, 16, 16...  \n",
              "1  [16, 16, 16, 16, 16, 3, 16, 16, 16, 16, 2, 16,...  \n",
              "2  [16, 2, 16, 16, 16, 16, 16, 16, 16, 16, 16, 16...  \n",
              "3  [16, 5, 13, 13, 13, 16, 16, 16, 16, 16, 16, 16...  \n",
              "4  [3, 16, 16, 16, 16, 16, 16, 16, 16, 16, 16, 16...  "
            ]
          },
          "execution_count": 78,
          "metadata": {},
          "output_type": "execute_result"
        }
      ],
      "source": [
        "df_train = df_train.groupby(\n",
        "['Sentence #'],as_index=False\n",
        ")['Word', 'Tag', 'sequence', 'target'].agg({'sequence':'sum', 'Word':list, 'Tag':list, 'target':list})\n",
        "\n",
        "df_val = df_val.groupby(\n",
        "['Sentence #'],as_index=False\n",
        ")['Word', 'Tag', 'sequence', 'target'].agg({'sequence':'sum', 'Word':list, 'Tag':list, 'target':list})\n",
        "\n",
        "df_train.head()"
      ]
    },
    {
      "cell_type": "code",
      "execution_count": null,
      "metadata": {
        "colab": {
          "base_uri": "https://localhost:8080/",
          "height": 337
        },
        "id": "imUSfLhG2-JP",
        "outputId": "fa40925d-721c-412c-8894-b3345e71a0da",
        "vscode": {
          "languageId": "python"
        }
      },
      "outputs": [
        {
          "data": {
            "text/html": [
              "\n",
              "  <div id=\"df-281b1cb0-8681-4d0d-90ac-1e5e3908aa83\">\n",
              "    <div class=\"colab-df-container\">\n",
              "      <div>\n",
              "<style scoped>\n",
              "    .dataframe tbody tr th:only-of-type {\n",
              "        vertical-align: middle;\n",
              "    }\n",
              "\n",
              "    .dataframe tbody tr th {\n",
              "        vertical-align: top;\n",
              "    }\n",
              "\n",
              "    .dataframe thead th {\n",
              "        text-align: right;\n",
              "    }\n",
              "</style>\n",
              "<table border=\"1\" class=\"dataframe\">\n",
              "  <thead>\n",
              "    <tr style=\"text-align: right;\">\n",
              "      <th></th>\n",
              "      <th>sequence</th>\n",
              "      <th>Word</th>\n",
              "      <th>Tag</th>\n",
              "      <th>target</th>\n",
              "    </tr>\n",
              "  </thead>\n",
              "  <tbody>\n",
              "    <tr>\n",
              "      <th>0</th>\n",
              "      <td>[1, 480, 533, 10, 1, 1979, 3, 1, 1142, 481, 3,...</td>\n",
              "      <td>[The, protest, comes, on, the, eve, of, the, a...</td>\n",
              "      <td>[O, O, O, O, O, O, O, O, O, O, O, B-geo, O, O,...</td>\n",
              "      <td>[16, 16, 16, 16, 16, 16, 16, 16, 16, 16, 16, 2...</td>\n",
              "    </tr>\n",
              "    <tr>\n",
              "      <th>1</th>\n",
              "      <td>[37, 4256, 6, 136, 1561, 90, 299, 34, 560, 24,...</td>\n",
              "      <td>[Two, Germans, and, four, Nigerian, oil, worke...</td>\n",
              "      <td>[O, B-gpe, O, O, B-gpe, O, O, O, O, O, O, O, O...</td>\n",
              "      <td>[16, 3, 16, 16, 3, 16, 16, 16, 16, 16, 16, 16,...</td>\n",
              "    </tr>\n",
              "    <tr>\n",
              "      <th>2</th>\n",
              "      <td>[29, 20, 45, 1300, 777, 186, 1, 27, 20, 2, 1, ...</td>\n",
              "      <td>[It, was, not, immediately, clear, if, the, pr...</td>\n",
              "      <td>[O, O, O, O, O, O, O, O, O, O, O, O, O, B-geo,...</td>\n",
              "      <td>[16, 16, 16, 16, 16, 16, 16, 16, 16, 16, 16, 1...</td>\n",
              "    </tr>\n",
              "    <tr>\n",
              "      <th>3</th>\n",
              "      <td>[2, 93, 7, 149, 884, 32, 2460, 2221, 2, 618, 1...</td>\n",
              "      <td>[In, Saturday, 's, elections, ,, voters, will,...</td>\n",
              "      <td>[O, B-tim, O, O, O, O, O, O, O, O, O, O, O, O,...</td>\n",
              "      <td>[16, 7, 16, 16, 16, 16, 16, 16, 16, 16, 16, 16...</td>\n",
              "    </tr>\n",
              "    <tr>\n",
              "      <th>4</th>\n",
              "      <td>[316, 7, 33, 17, 29, 32, 898, 81, 5, 300, 110,...</td>\n",
              "      <td>[Sudan, 's, government, says, it, will, order,...</td>\n",
              "      <td>[B-gpe, O, O, O, O, O, O, O, O, O, O, O, O, B-...</td>\n",
              "      <td>[3, 16, 16, 16, 16, 16, 16, 16, 16, 16, 16, 16...</td>\n",
              "    </tr>\n",
              "  </tbody>\n",
              "</table>\n",
              "</div>\n",
              "      <button class=\"colab-df-convert\" onclick=\"convertToInteractive('df-281b1cb0-8681-4d0d-90ac-1e5e3908aa83')\"\n",
              "              title=\"Convert this dataframe to an interactive table.\"\n",
              "              style=\"display:none;\">\n",
              "        \n",
              "  <svg xmlns=\"http://www.w3.org/2000/svg\" height=\"24px\"viewBox=\"0 0 24 24\"\n",
              "       width=\"24px\">\n",
              "    <path d=\"M0 0h24v24H0V0z\" fill=\"none\"/>\n",
              "    <path d=\"M18.56 5.44l.94 2.06.94-2.06 2.06-.94-2.06-.94-.94-2.06-.94 2.06-2.06.94zm-11 1L8.5 8.5l.94-2.06 2.06-.94-2.06-.94L8.5 2.5l-.94 2.06-2.06.94zm10 10l.94 2.06.94-2.06 2.06-.94-2.06-.94-.94-2.06-.94 2.06-2.06.94z\"/><path d=\"M17.41 7.96l-1.37-1.37c-.4-.4-.92-.59-1.43-.59-.52 0-1.04.2-1.43.59L10.3 9.45l-7.72 7.72c-.78.78-.78 2.05 0 2.83L4 21.41c.39.39.9.59 1.41.59.51 0 1.02-.2 1.41-.59l7.78-7.78 2.81-2.81c.8-.78.8-2.07 0-2.86zM5.41 20L4 18.59l7.72-7.72 1.47 1.35L5.41 20z\"/>\n",
              "  </svg>\n",
              "      </button>\n",
              "      \n",
              "  <style>\n",
              "    .colab-df-container {\n",
              "      display:flex;\n",
              "      flex-wrap:wrap;\n",
              "      gap: 12px;\n",
              "    }\n",
              "\n",
              "    .colab-df-convert {\n",
              "      background-color: #E8F0FE;\n",
              "      border: none;\n",
              "      border-radius: 50%;\n",
              "      cursor: pointer;\n",
              "      display: none;\n",
              "      fill: #1967D2;\n",
              "      height: 32px;\n",
              "      padding: 0 0 0 0;\n",
              "      width: 32px;\n",
              "    }\n",
              "\n",
              "    .colab-df-convert:hover {\n",
              "      background-color: #E2EBFA;\n",
              "      box-shadow: 0px 1px 2px rgba(60, 64, 67, 0.3), 0px 1px 3px 1px rgba(60, 64, 67, 0.15);\n",
              "      fill: #174EA6;\n",
              "    }\n",
              "\n",
              "    [theme=dark] .colab-df-convert {\n",
              "      background-color: #3B4455;\n",
              "      fill: #D2E3FC;\n",
              "    }\n",
              "\n",
              "    [theme=dark] .colab-df-convert:hover {\n",
              "      background-color: #434B5C;\n",
              "      box-shadow: 0px 1px 3px 1px rgba(0, 0, 0, 0.15);\n",
              "      filter: drop-shadow(0px 1px 2px rgba(0, 0, 0, 0.3));\n",
              "      fill: #FFFFFF;\n",
              "    }\n",
              "  </style>\n",
              "\n",
              "      <script>\n",
              "        const buttonEl =\n",
              "          document.querySelector('#df-281b1cb0-8681-4d0d-90ac-1e5e3908aa83 button.colab-df-convert');\n",
              "        buttonEl.style.display =\n",
              "          google.colab.kernel.accessAllowed ? 'block' : 'none';\n",
              "\n",
              "        async function convertToInteractive(key) {\n",
              "          const element = document.querySelector('#df-281b1cb0-8681-4d0d-90ac-1e5e3908aa83');\n",
              "          const dataTable =\n",
              "            await google.colab.kernel.invokeFunction('convertToInteractive',\n",
              "                                                     [key], {});\n",
              "          if (!dataTable) return;\n",
              "\n",
              "          const docLinkHtml = 'Like what you see? Visit the ' +\n",
              "            '<a target=\"_blank\" href=https://colab.research.google.com/notebooks/data_table.ipynb>data table notebook</a>'\n",
              "            + ' to learn more about interactive tables.';\n",
              "          element.innerHTML = '';\n",
              "          dataTable['output_type'] = 'display_data';\n",
              "          await google.colab.output.renderOutput(dataTable, element);\n",
              "          const docLink = document.createElement('div');\n",
              "          docLink.innerHTML = docLinkHtml;\n",
              "          element.appendChild(docLink);\n",
              "        }\n",
              "      </script>\n",
              "    </div>\n",
              "  </div>\n",
              "  "
            ],
            "text/plain": [
              "                                            sequence  \\\n",
              "0  [1, 480, 533, 10, 1, 1979, 3, 1, 1142, 481, 3,...   \n",
              "1  [37, 4256, 6, 136, 1561, 90, 299, 34, 560, 24,...   \n",
              "2  [29, 20, 45, 1300, 777, 186, 1, 27, 20, 2, 1, ...   \n",
              "3  [2, 93, 7, 149, 884, 32, 2460, 2221, 2, 618, 1...   \n",
              "4  [316, 7, 33, 17, 29, 32, 898, 81, 5, 300, 110,...   \n",
              "\n",
              "                                                Word  \\\n",
              "0  [The, protest, comes, on, the, eve, of, the, a...   \n",
              "1  [Two, Germans, and, four, Nigerian, oil, worke...   \n",
              "2  [It, was, not, immediately, clear, if, the, pr...   \n",
              "3  [In, Saturday, 's, elections, ,, voters, will,...   \n",
              "4  [Sudan, 's, government, says, it, will, order,...   \n",
              "\n",
              "                                                 Tag  \\\n",
              "0  [O, O, O, O, O, O, O, O, O, O, O, B-geo, O, O,...   \n",
              "1  [O, B-gpe, O, O, B-gpe, O, O, O, O, O, O, O, O...   \n",
              "2  [O, O, O, O, O, O, O, O, O, O, O, O, O, B-geo,...   \n",
              "3  [O, B-tim, O, O, O, O, O, O, O, O, O, O, O, O,...   \n",
              "4  [B-gpe, O, O, O, O, O, O, O, O, O, O, O, O, B-...   \n",
              "\n",
              "                                              target  \n",
              "0  [16, 16, 16, 16, 16, 16, 16, 16, 16, 16, 16, 2...  \n",
              "1  [16, 3, 16, 16, 3, 16, 16, 16, 16, 16, 16, 16,...  \n",
              "2  [16, 16, 16, 16, 16, 16, 16, 16, 16, 16, 16, 1...  \n",
              "3  [16, 7, 16, 16, 16, 16, 16, 16, 16, 16, 16, 16...  \n",
              "4  [3, 16, 16, 16, 16, 16, 16, 16, 16, 16, 16, 16...  "
            ]
          },
          "execution_count": 79,
          "metadata": {},
          "output_type": "execute_result"
        }
      ],
      "source": [
        "df_val.head()"
      ]
    },
    {
      "cell_type": "code",
      "execution_count": null,
      "metadata": {
        "id": "NaOFHHYI2-JP",
        "vscode": {
          "languageId": "python"
        }
      },
      "outputs": [],
      "source": [
        "X_train = df_train.sequence\n",
        "y_train = df_train.target\n",
        "\n",
        "X_test = df_val.sequence\n",
        "y_test = df_val.target"
      ]
    },
    {
      "cell_type": "code",
      "execution_count": null,
      "metadata": {
        "colab": {
          "base_uri": "https://localhost:8080/"
        },
        "id": "EP9NaODf2-JP",
        "outputId": "89219b70-971b-4ece-f9f9-afc951f93174",
        "vscode": {
          "languageId": "python"
        }
      },
      "outputs": [
        {
          "data": {
            "text/plain": [
              "17"
            ]
          },
          "execution_count": 81,
          "metadata": {},
          "output_type": "execute_result"
        }
      ],
      "source": [
        "le.classes_.shape[0]"
      ]
    },
    {
      "cell_type": "code",
      "execution_count": null,
      "metadata": {
        "id": "CzrzISRH2-JQ",
        "vscode": {
          "languageId": "python"
        }
      },
      "outputs": [],
      "source": [
        "X_train = tf.keras.utils.pad_sequences(X_train, maxlen=30, padding='pre')\n",
        "y_train = tf.keras.utils.pad_sequences(y_train, maxlen=30, padding='pre',value=le.transform(['O'])[0])\n",
        "\n",
        "X_test = tf.keras.utils.pad_sequences(X_test, maxlen=30, padding='pre')\n",
        "y_test = tf.keras.utils.pad_sequences(y_test, maxlen=30, padding='pre',value=le.transform(['O'])[0])"
      ]
    },
    {
      "cell_type": "code",
      "execution_count": null,
      "metadata": {
        "colab": {
          "base_uri": "https://localhost:8080/"
        },
        "id": "sfmcQQFO2-JQ",
        "outputId": "2e1cdd98-8f0b-48df-cdce-f03b5ecbf70d",
        "vscode": {
          "languageId": "python"
        }
      },
      "outputs": [
        {
          "name": "stdout",
          "output_type": "stream",
          "text": [
            "[   0    0    0    0    0    0    0  259    3  904   14 1478  245  472\n",
            "    5  480    1  122    2   58    6  567    1  865    3  183   81   21\n",
            "   12   54]\n",
            "[16 16 16 16 16 16 16 16 16 16 16 16  2 16 16 16 16 16  2 16 16 16 16 16\n",
            "  3 16 16 16 16 16]\n"
          ]
        }
      ],
      "source": [
        "print(X_train[0])\n",
        "print(y_train[0])"
      ]
    },
    {
      "cell_type": "code",
      "execution_count": null,
      "metadata": {
        "id": "xhcSlwcP2-JR",
        "vscode": {
          "languageId": "python"
        }
      },
      "outputs": [],
      "source": [
        "VOCAB_SIZE = len(tok.__dict__['word_index'])+1"
      ]
    },
    {
      "cell_type": "markdown",
      "metadata": {
        "id": "huDQuexC2-JR"
      },
      "source": [
        "<b>Create the model </b>\n",
        "\n",
        "Now define the model, which will be many to many.\n",
        "\n",
        "* The first layer should be Embedding, with _mask_zero_ set to True. This will propagate the mask in the network.\n",
        "* Then, a SimpleRNN layer. We set here the number of hidden units. Remember to return the sequence of hidden states.\n",
        "* We will define a Dense layer, with size set as the number of classes and activation softmax. \n",
        "\n",
        "\n",
        "\n",
        "\n"
      ]
    },
    {
      "cell_type": "markdown",
      "metadata": {
        "id": "G45SyJgn2-JR"
      },
      "source": [
        "<b> RNN MODELS </b>\n",
        "\n",
        "Train the model with as much data as you can, changing the learning rate and hidden units. </br>\n"
      ]
    },
    {
      "cell_type": "markdown",
      "metadata": {
        "id": "40i8trUR2-JS"
      },
      "source": [
        "<b>Single Layer RNN Network </b></div></br>"
      ]
    },
    {
      "cell_type": "code",
      "execution_count": null,
      "metadata": {
        "colab": {
          "base_uri": "https://localhost:8080/"
        },
        "id": "H90oH1RO2-JS",
        "outputId": "58324822-712d-4ba2-b822-9f1684af2135",
        "vscode": {
          "languageId": "python"
        }
      },
      "outputs": [
        {
          "name": "stdout",
          "output_type": "stream",
          "text": [
            "Model: \"sequential_36\"\n",
            "_________________________________________________________________\n",
            " Layer (type)                Output Shape              Param #   \n",
            "=================================================================\n",
            " embedding_36 (Embedding)    (None, 30, 300)           6281700   \n",
            "                                                                 \n",
            " simple_rnn_64 (SimpleRNN)   (None, 30, 8)             2472      \n",
            "                                                                 \n",
            " dense_35 (Dense)            (None, 30, 17)            153       \n",
            "                                                                 \n",
            "=================================================================\n",
            "Total params: 6,284,325\n",
            "Trainable params: 6,284,325\n",
            "Non-trainable params: 0\n",
            "_________________________________________________________________\n"
          ]
        }
      ],
      "source": [
        "from keras. layers import SimpleRNN, Bidirectional, RNN\n",
        "def generate_single_layer_RNN(hidden_size=8):\n",
        "    single_RNN = tf.keras.Sequential()\n",
        "    single_RNN.add(Embedding(VOCAB_SIZE, 300, mask_zero=True, input_length=30))\n",
        "    single_RNN.add(SimpleRNN(hidden_size,return_sequences=True))\n",
        "    single_RNN.add(Dense(le.classes_.shape[0], activation = 'softmax'))\n",
        "    return single_RNN\n",
        "\n",
        "generate_single_layer_RNN().summary()\n"
      ]
    },
    {
      "cell_type": "code",
      "execution_count": null,
      "metadata": {
        "colab": {
          "base_uri": "https://localhost:8080/"
        },
        "id": "Ez8Soufz2-JS",
        "outputId": "0b4ad404-89b4-4cef-82a3-717d720e1383",
        "vscode": {
          "languageId": "python"
        }
      },
      "outputs": [
        {
          "name": "stdout",
          "output_type": "stream",
          "text": [
            "Epoch 1/2\n",
            "295/295 [==============================] - 30s 95ms/step - loss: 0.7654 - accuracy: 0.8425 - val_loss: 0.5086 - val_accuracy: 0.8529\n",
            "Epoch 2/2\n",
            "295/295 [==============================] - 28s 95ms/step - loss: 0.4837 - accuracy: 0.8541 - val_loss: 0.4734 - val_accuracy: 0.8545\n",
            "185/185 [==============================] - 1s 7ms/step - loss: 0.4755 - accuracy: 0.8523\n",
            "Epoch 1/2\n",
            "295/295 [==============================] - 35s 114ms/step - loss: 0.5944 - accuracy: 0.8185 - val_loss: 0.4424 - val_accuracy: 0.8542\n",
            "Epoch 2/2\n",
            "295/295 [==============================] - 33s 111ms/step - loss: 0.4100 - accuracy: 0.8568 - val_loss: 0.4044 - val_accuracy: 0.8562\n",
            "185/185 [==============================] - 2s 12ms/step - loss: 0.4131 - accuracy: 0.8536\n",
            "Epoch 1/2\n",
            "295/295 [==============================] - 52s 165ms/step - loss: 0.5371 - accuracy: 0.8405 - val_loss: 0.4270 - val_accuracy: 0.8548\n",
            "Epoch 2/2\n",
            "295/295 [==============================] - 31s 105ms/step - loss: 0.3960 - accuracy: 0.8575 - val_loss: 0.3952 - val_accuracy: 0.8575\n",
            "185/185 [==============================] - 2s 10ms/step - loss: 0.4049 - accuracy: 0.8543\n"
          ]
        }
      ],
      "source": [
        "models = {'SingleRNN_hidden_8':generate_single_layer_RNN(8), 'SingleRNN_hidden_32':generate_single_layer_RNN(32), 'SingleRNN_hidden_64':generate_single_layer_RNN(64)}\n",
        "scores = {}\n",
        "for name, model in models.items():\n",
        "    # model=models[0]\n",
        "    model.compile(loss='sparse_categorical_crossentropy', optimizer='adam', metrics=['accuracy'])\n",
        "    model.fit(X_train, y_train, batch_size=64, epochs=2, validation_split=0.2)\n",
        "    scores[name]=model.evaluate(X_test, y_test)[1]"
      ]
    },
    {
      "cell_type": "code",
      "execution_count": null,
      "metadata": {
        "colab": {
          "base_uri": "https://localhost:8080/"
        },
        "id": "bzxFcx7b2-JT",
        "outputId": "eb9cced9-338e-4e79-a803-3e3ea510f19f",
        "vscode": {
          "languageId": "python"
        }
      },
      "outputs": [
        {
          "data": {
            "text/plain": [
              "{'SingleRNN_hidden_32': 0.8536089062690735,\n",
              " 'SingleRNN_hidden_64': 0.8542622923851013,\n",
              " 'SingleRNN_hidden_8': 0.8523269295692444}"
            ]
          },
          "execution_count": 87,
          "metadata": {},
          "output_type": "execute_result"
        }
      ],
      "source": [
        "scores"
      ]
    },
    {
      "cell_type": "markdown",
      "metadata": {
        "id": "VKvjlk632-JT"
      },
      "source": [
        "<b>k-Layer RNN Network with k=[2,3] </b></div></br>"
      ]
    },
    {
      "cell_type": "code",
      "execution_count": null,
      "metadata": {
        "colab": {
          "base_uri": "https://localhost:8080/"
        },
        "id": "Wh5VcEap2-JT",
        "outputId": "87c34be4-ea28-46a7-807c-e946e5d34863",
        "vscode": {
          "languageId": "python"
        }
      },
      "outputs": [
        {
          "name": "stdout",
          "output_type": "stream",
          "text": [
            "Model: \"sequential_40\"\n",
            "_________________________________________________________________\n",
            " Layer (type)                Output Shape              Param #   \n",
            "=================================================================\n",
            " embedding_40 (Embedding)    (None, 30, 300)           6281700   \n",
            "                                                                 \n",
            " simple_rnn_68 (SimpleRNN)   (None, 30, 8)             2472      \n",
            "                                                                 \n",
            " simple_rnn_69 (SimpleRNN)   (None, 30, 8)             136       \n",
            "                                                                 \n",
            " dense_39 (Dense)            (None, 30, 17)            153       \n",
            "                                                                 \n",
            "=================================================================\n",
            "Total params: 6,284,461\n",
            "Trainable params: 6,284,461\n",
            "Non-trainable params: 0\n",
            "_________________________________________________________________\n"
          ]
        }
      ],
      "source": [
        "def generate_multi_layer_RNN(layers =2, hidden_size=8):\n",
        "    single_RNN = tf.keras.Sequential()\n",
        "    single_RNN.add(Embedding(VOCAB_SIZE, 300, mask_zero=True, input_length=30))\n",
        "    for _ in range(layers):\n",
        "        single_RNN.add(SimpleRNN(hidden_size,return_sequences=True))\n",
        "    single_RNN.add(Dense(le.classes_.shape[0], activation = 'softmax'))\n",
        "    return single_RNN\n",
        "\n",
        "generate_multi_layer_RNN().summary()\n"
      ]
    },
    {
      "cell_type": "code",
      "execution_count": null,
      "metadata": {
        "colab": {
          "base_uri": "https://localhost:8080/"
        },
        "id": "nIPKZo4K2-JZ",
        "outputId": "88bfc440-0a00-4a6b-e807-326e2160cf05",
        "vscode": {
          "languageId": "python"
        }
      },
      "outputs": [
        {
          "name": "stdout",
          "output_type": "stream",
          "text": [
            "Epoch 1/2\n",
            "590/590 [==============================] - 67s 108ms/step - loss: 0.4772 - accuracy: 0.8487 - val_loss: 0.3988 - val_accuracy: 0.8576\n",
            "Epoch 2/2\n",
            "590/590 [==============================] - 62s 106ms/step - loss: 0.3689 - accuracy: 0.8607 - val_loss: 0.3900 - val_accuracy: 0.8580\n",
            "185/185 [==============================] - 2s 11ms/step - loss: 0.4004 - accuracy: 0.8545\n",
            "Epoch 1/2\n",
            "590/590 [==============================] - 62s 101ms/step - loss: 0.5129 - accuracy: 0.8435 - val_loss: 0.4205 - val_accuracy: 0.8559\n",
            "Epoch 2/2\n",
            "590/590 [==============================] - 59s 100ms/step - loss: 0.3935 - accuracy: 0.8582 - val_loss: 0.3990 - val_accuracy: 0.8589\n",
            "185/185 [==============================] - 2s 10ms/step - loss: 0.4102 - accuracy: 0.8549\n",
            "Epoch 1/2\n",
            "590/590 [==============================] - 71s 117ms/step - loss: 0.6944 - accuracy: 0.8000 - val_loss: 0.4931 - val_accuracy: 0.8521\n",
            "Epoch 2/2\n",
            "590/590 [==============================] - 62s 105ms/step - loss: 0.4627 - accuracy: 0.8534 - val_loss: 0.4429 - val_accuracy: 0.8545\n",
            "185/185 [==============================] - 2s 9ms/step - loss: 0.4488 - accuracy: 0.8521\n",
            "Epoch 1/2\n",
            "590/590 [==============================] - 85s 138ms/step - loss: 0.4801 - accuracy: 0.8488 - val_loss: 0.4057 - val_accuracy: 0.8565\n",
            "Epoch 2/2\n",
            "590/590 [==============================] - 68s 115ms/step - loss: 0.3730 - accuracy: 0.8608 - val_loss: 0.3940 - val_accuracy: 0.8582\n",
            "185/185 [==============================] - 3s 16ms/step - loss: 0.4053 - accuracy: 0.8553\n",
            "Epoch 1/2\n",
            "590/590 [==============================] - 71s 113ms/step - loss: 0.5131 - accuracy: 0.8456 - val_loss: 0.4236 - val_accuracy: 0.8554\n",
            "Epoch 2/2\n",
            "590/590 [==============================] - 67s 114ms/step - loss: 0.3917 - accuracy: 0.8582 - val_loss: 0.3964 - val_accuracy: 0.8571\n",
            "185/185 [==============================] - 2s 13ms/step - loss: 0.4075 - accuracy: 0.8544\n",
            "Epoch 1/2\n",
            "590/590 [==============================] - 69s 110ms/step - loss: 0.6745 - accuracy: 0.8369 - val_loss: 0.4863 - val_accuracy: 0.8541\n",
            "Epoch 2/2\n",
            "590/590 [==============================] - 63s 107ms/step - loss: 0.4583 - accuracy: 0.8557 - val_loss: 0.4434 - val_accuracy: 0.8554\n",
            "185/185 [==============================] - 2s 11ms/step - loss: 0.4501 - accuracy: 0.8527\n"
          ]
        }
      ],
      "source": [
        "models = {'2_layer_RNN_hidden_64':generate_multi_layer_RNN(2, 64), '2_layer_RNN_hidden_32':generate_multi_layer_RNN(2, 32), '2_layer_RNN_hidden_8':generate_multi_layer_RNN(2,8),'3_layer_RNN_hidden_64':generate_multi_layer_RNN(3,64), '3_layer_RNN_hidden_32':generate_multi_layer_RNN(3, 32), '3_layer_RNN_hidden_8':generate_multi_layer_RNN(3,8)}\n",
        "for name, model in models.items():\n",
        "    # model=models[0]\n",
        "    model.compile(loss='sparse_categorical_crossentropy', optimizer='adam', metrics=['accuracy'])\n",
        "    model.fit(X_train, y_train, batch_size=32, epochs=2, validation_split=0.2)\n",
        "    scores[name]=model.evaluate(X_test, y_test)[1]"
      ]
    },
    {
      "cell_type": "markdown",
      "metadata": {
        "id": "ASoX2xvn2-JZ"
      },
      "source": [
        "<b>Bidirectional single-layer RNN </b>"
      ]
    },
    {
      "cell_type": "code",
      "execution_count": null,
      "metadata": {
        "colab": {
          "base_uri": "https://localhost:8080/"
        },
        "id": "_pG6yh5r2-Ja",
        "outputId": "84822abc-0efe-437c-8ee5-7c16365bc2da",
        "vscode": {
          "languageId": "python"
        }
      },
      "outputs": [
        {
          "name": "stdout",
          "output_type": "stream",
          "text": [
            "Model: \"sequential_47\"\n",
            "_________________________________________________________________\n",
            " Layer (type)                Output Shape              Param #   \n",
            "=================================================================\n",
            " embedding_47 (Embedding)    (None, 30, 300)           6281700   \n",
            "                                                                 \n",
            " bidirectional_20 (Bidirecti  (None, 30, 16)           4944      \n",
            " onal)                                                           \n",
            "                                                                 \n",
            " dense_46 (Dense)            (None, 30, 17)            289       \n",
            "                                                                 \n",
            "=================================================================\n",
            "Total params: 6,286,933\n",
            "Trainable params: 6,286,933\n",
            "Non-trainable params: 0\n",
            "_________________________________________________________________\n"
          ]
        }
      ],
      "source": [
        "# Your code here\n",
        "def generate_bidirectinal_RNN(layers =1, hidden_size=8):\n",
        "    bidirectional_RNN = tf.keras.Sequential()\n",
        "    bidirectional_RNN.add(Embedding(VOCAB_SIZE, 300, mask_zero=True, input_length=30))\n",
        "    for _ in range(layers):\n",
        "        bidirectional_RNN.add(Bidirectional(SimpleRNN(hidden_size,return_sequences=True)))\n",
        "    bidirectional_RNN.add(Dense(le.classes_.shape[0], activation = 'softmax'))\n",
        "    return bidirectional_RNN\n",
        "generate_bidirectinal_RNN().summary()"
      ]
    },
    {
      "cell_type": "code",
      "execution_count": null,
      "metadata": {
        "colab": {
          "base_uri": "https://localhost:8080/"
        },
        "id": "ZtGd7V1oLdV_",
        "outputId": "41e70b0a-69bc-4bcf-e336-b40b059d440f",
        "vscode": {
          "languageId": "python"
        }
      },
      "outputs": [
        {
          "name": "stdout",
          "output_type": "stream",
          "text": [
            "Epoch 1/2\n",
            "590/590 [==============================] - 69s 112ms/step - loss: 0.3671 - accuracy: 0.8679 - val_loss: 0.2563 - val_accuracy: 0.8890\n",
            "Epoch 2/2\n",
            "590/590 [==============================] - 63s 107ms/step - loss: 0.2191 - accuracy: 0.8992 - val_loss: 0.2408 - val_accuracy: 0.8930\n",
            "185/185 [==============================] - 2s 13ms/step - loss: 0.2636 - accuracy: 0.8856\n",
            "Epoch 1/2\n",
            "590/590 [==============================] - 63s 102ms/step - loss: 0.3985 - accuracy: 0.8618 - val_loss: 0.2720 - val_accuracy: 0.8857\n",
            "Epoch 2/2\n",
            "590/590 [==============================] - 59s 100ms/step - loss: 0.2335 - accuracy: 0.8955 - val_loss: 0.2522 - val_accuracy: 0.8908\n",
            "185/185 [==============================] - 2s 10ms/step - loss: 0.2735 - accuracy: 0.8835\n",
            "Epoch 1/2\n",
            "590/590 [==============================] - 61s 99ms/step - loss: 0.5391 - accuracy: 0.8495 - val_loss: 0.3760 - val_accuracy: 0.8665\n",
            "Epoch 2/2\n",
            "590/590 [==============================] - 59s 100ms/step - loss: 0.3272 - accuracy: 0.8737 - val_loss: 0.3110 - val_accuracy: 0.8778\n",
            "185/185 [==============================] - 2s 10ms/step - loss: 0.3269 - accuracy: 0.8721\n"
          ]
        }
      ],
      "source": [
        "models = {'Bidirectional_RNN_hidden_64':generate_bidirectinal_RNN(1, 64), 'Bidirectional_layer_RNN_hidden_32':generate_bidirectinal_RNN(1, 32), 'Bidirectional_layer_RNN_hidden_8':generate_bidirectinal_RNN(1,8)}\n",
        "for name, model in models.items():\n",
        "    # model=models[0]\n",
        "    model.compile(loss='sparse_categorical_crossentropy', optimizer='adam', metrics=['accuracy'])\n",
        "    model.fit(X_train, y_train, batch_size=32, epochs=2, validation_split=0.2)\n",
        "    scores[name]=model.evaluate(X_test, y_test)[1]"
      ]
    },
    {
      "cell_type": "markdown",
      "metadata": {
        "id": "6hcKFtSl2-Ja"
      },
      "source": [
        "<b>Bidirectional k-layer RNN, where k=[2,3] </b>\n"
      ]
    },
    {
      "cell_type": "code",
      "execution_count": null,
      "metadata": {
        "colab": {
          "base_uri": "https://localhost:8080/"
        },
        "id": "XqbG9-TD2-Ja",
        "outputId": "c36afedc-22ba-4245-b98e-3904adadd83d",
        "vscode": {
          "languageId": "python"
        }
      },
      "outputs": [
        {
          "name": "stdout",
          "output_type": "stream",
          "text": [
            "Epoch 1/2\n",
            "590/590 [==============================] - 84s 133ms/step - loss: 0.3331 - accuracy: 0.8733 - val_loss: 0.2386 - val_accuracy: 0.8934\n",
            "Epoch 2/2\n",
            "590/590 [==============================] - 95s 160ms/step - loss: 0.1957 - accuracy: 0.9068 - val_loss: 0.2377 - val_accuracy: 0.8929\n",
            "185/185 [==============================] - 7s 36ms/step - loss: 0.2527 - accuracy: 0.8884\n",
            "Epoch 1/2\n",
            "590/590 [==============================] - 91s 140ms/step - loss: 0.3674 - accuracy: 0.8668 - val_loss: 0.2554 - val_accuracy: 0.8892\n",
            "Epoch 2/2\n",
            "590/590 [==============================] - 72s 122ms/step - loss: 0.2110 - accuracy: 0.9019 - val_loss: 0.2407 - val_accuracy: 0.8939\n",
            "185/185 [==============================] - 3s 15ms/step - loss: 0.2569 - accuracy: 0.8881\n",
            "Epoch 1/2\n",
            "590/590 [==============================] - 73s 114ms/step - loss: 0.5645 - accuracy: 0.8245 - val_loss: 0.3651 - val_accuracy: 0.8662\n",
            "Epoch 2/2\n",
            "590/590 [==============================] - 65s 110ms/step - loss: 0.3129 - accuracy: 0.8773 - val_loss: 0.2938 - val_accuracy: 0.8786\n",
            "185/185 [==============================] - 2s 12ms/step - loss: 0.3009 - accuracy: 0.8763\n",
            "Epoch 1/2\n",
            "590/590 [==============================] - 101s 160ms/step - loss: 0.3488 - accuracy: 0.8694 - val_loss: 0.2466 - val_accuracy: 0.8912\n",
            "Epoch 2/2\n",
            "590/590 [==============================] - 94s 159ms/step - loss: 0.1986 - accuracy: 0.9066 - val_loss: 0.2401 - val_accuracy: 0.8930\n",
            "185/185 [==============================] - 5s 25ms/step - loss: 0.2575 - accuracy: 0.8879\n",
            "Epoch 1/2\n",
            "590/590 [==============================] - 90s 141ms/step - loss: 0.3611 - accuracy: 0.8672 - val_loss: 0.2534 - val_accuracy: 0.8902\n",
            "Epoch 2/2\n",
            "590/590 [==============================] - 81s 137ms/step - loss: 0.2082 - accuracy: 0.9042 - val_loss: 0.2437 - val_accuracy: 0.8922\n",
            "185/185 [==============================] - 4s 19ms/step - loss: 0.2581 - accuracy: 0.8881\n",
            "Epoch 1/2\n",
            "590/590 [==============================] - 83s 130ms/step - loss: 0.4996 - accuracy: 0.8472 - val_loss: 0.3652 - val_accuracy: 0.8637\n",
            "Epoch 2/2\n",
            "590/590 [==============================] - 76s 129ms/step - loss: 0.3133 - accuracy: 0.8765 - val_loss: 0.3016 - val_accuracy: 0.8762\n",
            "185/185 [==============================] - 3s 16ms/step - loss: 0.3068 - accuracy: 0.8756\n"
          ]
        }
      ],
      "source": [
        "# Your code here\n",
        "models = {'2_layer_Bidirectional_RNN_hidden_64':generate_bidirectinal_RNN(2, 64), '2_layer_Bidirectional_RNN_hidden_32':generate_bidirectinal_RNN(2, 32), '2_layer_Bidirectional_RNN_hidden_8':generate_bidirectinal_RNN(2,8),'3_layer_Bidirectional_RNN_hidden_64':generate_bidirectinal_RNN(3,64), '3_layer_Bidirectional_RNN_hidden_32':generate_bidirectinal_RNN(3, 32), '3_layer_Bidirectional_RNN_hidden_8':generate_bidirectinal_RNN(3,8)}\n",
        "for name, model in models.items():\n",
        "    # model=models[0]\n",
        "    model.compile(loss='sparse_categorical_crossentropy', optimizer='adam', metrics=['accuracy'])\n",
        "    model.fit(X_train, y_train, batch_size=32, epochs=2, validation_split=0.2)\n",
        "    scores[name]=model.evaluate(X_test, y_test)[1]\n"
      ]
    },
    {
      "cell_type": "markdown",
      "metadata": {
        "id": "pR9vSqnG2-Ja"
      },
      "source": [
        "<b>Show your results </b><br>\n",
        "Show classification metrics of all your models on the test set.\n",
        "\n"
      ]
    },
    {
      "cell_type": "code",
      "execution_count": null,
      "metadata": {
        "colab": {
          "base_uri": "https://localhost:8080/",
          "height": 461
        },
        "id": "AuSVq9DQ2-Jb",
        "outputId": "2eb45735-8844-49cf-9ebb-1a0ce740581a",
        "vscode": {
          "languageId": "python"
        }
      },
      "outputs": [
        {
          "data": {
            "image/png": "[encoded data removed]",
            "text/plain": [
              "<Figure size 432x288 with 1 Axes>"
            ]
          },
          "metadata": {
            "needs_background": "light"
          },
          "output_type": "display_data"
        }
      ],
      "source": [
        "# Your code here\n",
        "import matplotlib.pyplot as plt\n",
        "plt.scatter(scores.keys(), scores.values())\n",
        "plt.xticks(rotation=90)\n",
        "plt.xlabel(\"Model Variant\")\n",
        "plt.ylabel(\"Model Accuracy\")\n",
        "plt.show()"
      ]
    },
    {
      "cell_type": "markdown",
      "metadata": {
        "id": "UnWPhjECaCIv"
      },
      "source": [
        "*Thus from the above plot we see that Bidirectional RNNs have a much higher accuracy than SimpleRNN layers. Additionally, we observe that higher hidden layers have a higher accuracy, but the accuracy difference between 32 and 64 hidden layers isn't much.*"
      ]
    },
    {
      "cell_type": "markdown",
      "metadata": {
        "id": "qMBSMpGgcWYu"
      },
      "source": [
        "## Prediction on dataset"
      ]
    },
    {
      "cell_type": "code",
      "execution_count": 144,
      "metadata": {
        "colab": {
          "base_uri": "https://localhost:8080/"
        },
        "id": "mzLhQrZJcV_R",
        "outputId": "87b9eea4-87f0-4383-cb40-762790f25aad",
        "vscode": {
          "languageId": "python"
        }
      },
      "outputs": [
        {
          "name": "stdout",
          "output_type": "stream",
          "text": [
            "1/1 [==============================] - 0s 33ms/step\n",
            "+-------------+------------+-----------------+\n",
            "|     Word    | True Label | Predicted Label |\n",
            "+-------------+------------+-----------------+\n",
            "|   british   |     O      |        O        |\n",
            "|   defense   |     O      |        O        |\n",
            "|  officials  |     O      |        O        |\n",
            "|     say     |     O      |        O        |\n",
            "|      14     |     O      |        O        |\n",
            "|   british   |     O      |        O        |\n",
            "|   military  |     O      |        O        |\n",
            "|  personnel  |     O      |        O        |\n",
            "|     have    |   B-gpe    |        O        |\n",
            "|     been    |     O      |        O        |\n",
            "|    killed   |     O      |        O        |\n",
            "|      in     |     O      |        O        |\n",
            "|      a      |     O      |        O        |\n",
            "|    crash    |   B-gpe    |      B-gpe      |\n",
            "|      of     |     O      |        O        |\n",
            "|      a      |     O      |        O        |\n",
            "|     nato    |     O      |        O        |\n",
            "|   aircraft  |     O      |        O        |\n",
            "|      in     |     O      |        O        |\n",
            "|   southern  |     O      |        O        |\n",
            "| afghanistan |     O      |        O        |\n",
            "+-------------+------------+-----------------+\n"
          ]
        }
      ],
      "source": [
        "id = 24\n",
        "model = models['Bidirectional_RNN_hidden_64']\n",
        "sequence = df_val.iloc[id, :].sequence\n",
        "true_target = df_val.iloc[id, :].target\n",
        "true_target = tf.keras.utils.pad_sequences([true_target], maxlen=30, padding='pre',value=le.transform(['O'])[0])\n",
        "sequence = tf.keras.utils.pad_sequences([sequence], maxlen=30, padding='pre')\n",
        "res = model.predict(sequence)\n",
        "\n",
        "\n",
        "from prettytable import PrettyTable\n",
        "PTables = PrettyTable()\n",
        "PTables.field_names = [\"Word\", \"True Label\", \"Predicted Label\"]\n",
        "for i, j, k in zip(tok.sequences_to_texts(sequence)[0].split(' '), le.inverse_transform(true_target.ravel()), le.inverse_transform(np.ravel(np.argmax(res, axis=-1)))):\n",
        "  PTables.add_row([i, j,k])\n",
        "print(PTables)\n",
        "\n"
      ]
    },
    {
      "cell_type": "code",
      "execution_count": null,
      "metadata": {
        "id": "V1c_ld9l8w2n",
        "vscode": {
          "languageId": "python"
        }
      },
      "outputs": [],
      "source": []
    }
  ],
  "metadata": {
    "colab": {
      "collapsed_sections": [],
      "name": "RNN NER Model.ipynb",
      "provenance": []
    },
    "kernelspec": {
      "display_name": "Python 3 (ipykernel)",
      "language": "python",
      "name": "python3"
    }
  },
  "nbformat": 4,
  "nbformat_minor": 0
}
