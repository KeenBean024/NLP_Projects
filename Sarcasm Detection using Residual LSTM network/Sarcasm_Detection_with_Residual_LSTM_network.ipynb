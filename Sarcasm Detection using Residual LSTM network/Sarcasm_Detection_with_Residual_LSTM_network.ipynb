{
  "metadata": {
    "kernelspec": {
      "name": "python3",
      "display_name": "Python 3 (ipykernel)",
      "language": "python"
    },
    "colab": {
      "name": "Sarcasm Detection with Residual LSTM network.ipynb",
      "provenance": [],
      "collapsed_sections": []
    }
  },
  "nbformat": 4,
  "nbformat_minor": 0,
  "cells": [
    {
      "cell_type": "code",
      "execution_count": 1,
      "metadata": {
        "id": "CbcB6eDfBhaP"
      },
      "outputs": [],
      "source": [
        "import tensorflow as tf\n",
        "import numpy as np\n",
        "import pandas as pd\n",
        "from sklearn.model_selection import train_test_split\n",
        "import os\n",
        "import matplotlib.pyplot as plt\n",
        "\n",
        "from sklearn.preprocessing import LabelEncoder\n",
        "from sklearn.metrics import classification_report"
      ]
    },
    {
      "cell_type": "code",
      "execution_count": 3,
      "metadata": {
        "id": "1NdfDT5eBhaR"
      },
      "outputs": [],
      "source": [
        "df = pd.read_csv('./train-balanced-sarcasm.csv.zip')"
      ]
    },
    {
      "cell_type": "code",
      "execution_count": 4,
      "metadata": {
        "colab": {
          "base_uri": "https://localhost:8080/",
          "height": 206
        },
        "id": "yvHI0LxYBhaS",
        "outputId": "78446d03-eab0-4425-aa86-b46b1559a8ac"
      },
      "outputs": [
        {
          "output_type": "execute_result",
          "data": {
            "text/plain": [
              "   label                                            comment  score\n",
              "0      1                      This can't possibly go wrong.     29\n",
              "1      1  I agree with the government...It would be MUCH...      2\n",
              "2      0  There is just not enough people around that un...      1\n",
              "3      1  This, dear sirs and madams, is why we need fem...      1\n",
              "4      0  13 actually has a nice algorithm that works si...      4"
            ],
            "text/html": [
              "\n",
              "  <div id=\"df-169744ab-a3f7-4f48-b033-33e6ac60b98d\">\n",
              "    <div class=\"colab-df-container\">\n",
              "      <div>\n",
              "<style scoped>\n",
              "    .dataframe tbody tr th:only-of-type {\n",
              "        vertical-align: middle;\n",
              "    }\n",
              "\n",
              "    .dataframe tbody tr th {\n",
              "        vertical-align: top;\n",
              "    }\n",
              "\n",
              "    .dataframe thead th {\n",
              "        text-align: right;\n",
              "    }\n",
              "</style>\n",
              "<table border=\"1\" class=\"dataframe\">\n",
              "  <thead>\n",
              "    <tr style=\"text-align: right;\">\n",
              "      <th></th>\n",
              "      <th>label</th>\n",
              "      <th>comment</th>\n",
              "      <th>score</th>\n",
              "    </tr>\n",
              "  </thead>\n",
              "  <tbody>\n",
              "    <tr>\n",
              "      <th>0</th>\n",
              "      <td>1</td>\n",
              "      <td>This can't possibly go wrong.</td>\n",
              "      <td>29</td>\n",
              "    </tr>\n",
              "    <tr>\n",
              "      <th>1</th>\n",
              "      <td>1</td>\n",
              "      <td>I agree with the government...It would be MUCH...</td>\n",
              "      <td>2</td>\n",
              "    </tr>\n",
              "    <tr>\n",
              "      <th>2</th>\n",
              "      <td>0</td>\n",
              "      <td>There is just not enough people around that un...</td>\n",
              "      <td>1</td>\n",
              "    </tr>\n",
              "    <tr>\n",
              "      <th>3</th>\n",
              "      <td>1</td>\n",
              "      <td>This, dear sirs and madams, is why we need fem...</td>\n",
              "      <td>1</td>\n",
              "    </tr>\n",
              "    <tr>\n",
              "      <th>4</th>\n",
              "      <td>0</td>\n",
              "      <td>13 actually has a nice algorithm that works si...</td>\n",
              "      <td>4</td>\n",
              "    </tr>\n",
              "  </tbody>\n",
              "</table>\n",
              "</div>\n",
              "      <button class=\"colab-df-convert\" onclick=\"convertToInteractive('df-169744ab-a3f7-4f48-b033-33e6ac60b98d')\"\n",
              "              title=\"Convert this dataframe to an interactive table.\"\n",
              "              style=\"display:none;\">\n",
              "        \n",
              "  <svg xmlns=\"http://www.w3.org/2000/svg\" height=\"24px\"viewBox=\"0 0 24 24\"\n",
              "       width=\"24px\">\n",
              "    <path d=\"M0 0h24v24H0V0z\" fill=\"none\"/>\n",
              "    <path d=\"M18.56 5.44l.94 2.06.94-2.06 2.06-.94-2.06-.94-.94-2.06-.94 2.06-2.06.94zm-11 1L8.5 8.5l.94-2.06 2.06-.94-2.06-.94L8.5 2.5l-.94 2.06-2.06.94zm10 10l.94 2.06.94-2.06 2.06-.94-2.06-.94-.94-2.06-.94 2.06-2.06.94z\"/><path d=\"M17.41 7.96l-1.37-1.37c-.4-.4-.92-.59-1.43-.59-.52 0-1.04.2-1.43.59L10.3 9.45l-7.72 7.72c-.78.78-.78 2.05 0 2.83L4 21.41c.39.39.9.59 1.41.59.51 0 1.02-.2 1.41-.59l7.78-7.78 2.81-2.81c.8-.78.8-2.07 0-2.86zM5.41 20L4 18.59l7.72-7.72 1.47 1.35L5.41 20z\"/>\n",
              "  </svg>\n",
              "      </button>\n",
              "      \n",
              "  <style>\n",
              "    .colab-df-container {\n",
              "      display:flex;\n",
              "      flex-wrap:wrap;\n",
              "      gap: 12px;\n",
              "    }\n",
              "\n",
              "    .colab-df-convert {\n",
              "      background-color: #E8F0FE;\n",
              "      border: none;\n",
              "      border-radius: 50%;\n",
              "      cursor: pointer;\n",
              "      display: none;\n",
              "      fill: #1967D2;\n",
              "      height: 32px;\n",
              "      padding: 0 0 0 0;\n",
              "      width: 32px;\n",
              "    }\n",
              "\n",
              "    .colab-df-convert:hover {\n",
              "      background-color: #E2EBFA;\n",
              "      box-shadow: 0px 1px 2px rgba(60, 64, 67, 0.3), 0px 1px 3px 1px rgba(60, 64, 67, 0.15);\n",
              "      fill: #174EA6;\n",
              "    }\n",
              "\n",
              "    [theme=dark] .colab-df-convert {\n",
              "      background-color: #3B4455;\n",
              "      fill: #D2E3FC;\n",
              "    }\n",
              "\n",
              "    [theme=dark] .colab-df-convert:hover {\n",
              "      background-color: #434B5C;\n",
              "      box-shadow: 0px 1px 3px 1px rgba(0, 0, 0, 0.15);\n",
              "      filter: drop-shadow(0px 1px 2px rgba(0, 0, 0, 0.3));\n",
              "      fill: #FFFFFF;\n",
              "    }\n",
              "  </style>\n",
              "\n",
              "      <script>\n",
              "        const buttonEl =\n",
              "          document.querySelector('#df-169744ab-a3f7-4f48-b033-33e6ac60b98d button.colab-df-convert');\n",
              "        buttonEl.style.display =\n",
              "          google.colab.kernel.accessAllowed ? 'block' : 'none';\n",
              "\n",
              "        async function convertToInteractive(key) {\n",
              "          const element = document.querySelector('#df-169744ab-a3f7-4f48-b033-33e6ac60b98d');\n",
              "          const dataTable =\n",
              "            await google.colab.kernel.invokeFunction('convertToInteractive',\n",
              "                                                     [key], {});\n",
              "          if (!dataTable) return;\n",
              "\n",
              "          const docLinkHtml = 'Like what you see? Visit the ' +\n",
              "            '<a target=\"_blank\" href=https://colab.research.google.com/notebooks/data_table.ipynb>data table notebook</a>'\n",
              "            + ' to learn more about interactive tables.';\n",
              "          element.innerHTML = '';\n",
              "          dataTable['output_type'] = 'display_data';\n",
              "          await google.colab.output.renderOutput(dataTable, element);\n",
              "          const docLink = document.createElement('div');\n",
              "          docLink.innerHTML = docLinkHtml;\n",
              "          element.appendChild(docLink);\n",
              "        }\n",
              "      </script>\n",
              "    </div>\n",
              "  </div>\n",
              "  "
            ]
          },
          "metadata": {},
          "execution_count": 4
        }
      ],
      "source": [
        "df.head()"
      ]
    },
    {
      "cell_type": "code",
      "execution_count": 5,
      "metadata": {
        "id": "vpnjAEe0BhaT"
      },
      "outputs": [],
      "source": [
        "df = df[df.score>10]"
      ]
    },
    {
      "cell_type": "code",
      "execution_count": null,
      "metadata": {
        "id": "0a6u1Wz5BhaU"
      },
      "outputs": [],
      "source": [
        "df = df[['label','comment']].copy()\n",
        "df.comment = df.comment.astype('str')"
      ]
    },
    {
      "cell_type": "code",
      "execution_count": 7,
      "metadata": {
        "id": "wNSkUo4eBhaU"
      },
      "outputs": [],
      "source": [
        "df_train, df_test = train_test_split(df, test_size=0.2)"
      ]
    },
    {
      "cell_type": "code",
      "execution_count": 8,
      "metadata": {
        "id": "PQVVq7oeBhaW"
      },
      "outputs": [],
      "source": [
        "tok = tf.keras.preprocessing.text.Tokenizer(num_words=10000, lower=True)\n",
        "tok.fit_on_texts(df_train.comment)"
      ]
    },
    {
      "cell_type": "code",
      "execution_count": 9,
      "metadata": {
        "colab": {
          "base_uri": "https://localhost:8080/"
        },
        "id": "WaSGu56IBhaX",
        "outputId": "af84f3e6-b147-4741-abfd-b3899a362c5b"
      },
      "outputs": [
        {
          "output_type": "stream",
          "name": "stderr",
          "text": [
            "/usr/local/lib/python3.7/dist-packages/numpy/core/fromnumeric.py:3162: VisibleDeprecationWarning: Creating an ndarray from ragged nested sequences (which is a list-or-tuple of lists-or-tuples-or ndarrays with different lengths or shapes) is deprecated. If you meant to do this, you must specify 'dtype=object' when creating the ndarray.\n",
            "  return asarray(a).ndim\n"
          ]
        }
      ],
      "source": [
        "df_train.label = df_train.label.astype('int32')\n",
        "df_test.label = df_test.label.astype('int32')\n",
        "df_train.loc[:,'comment'] = tok.texts_to_sequences(df_train.comment)\n",
        "df_test.loc[:,'comment'] = tok.texts_to_sequences(df_test.comment)"
      ]
    },
    {
      "cell_type": "code",
      "execution_count": 10,
      "metadata": {
        "colab": {
          "base_uri": "https://localhost:8080/",
          "height": 206
        },
        "id": "BJtsoFNnBhaY",
        "outputId": "c4a35389-2b0b-436a-9c4e-e6267acaea94"
      },
      "outputs": [
        {
          "output_type": "execute_result",
          "data": {
            "text/plain": [
              "        label                                            comment\n",
              "229817      1                   [31, 31, 11, 26, 1, 1602, 5, 87]\n",
              "364395      1                                    [1660, 8, 2898]\n",
              "71101       0                 [22, 334, 71, 972, 21, 10, 11, 84]\n",
              "381083      0  [2899, 6395, 66, 584, 4, 477, 120, 3464, 12, 1...\n",
              "293408      1  [169, 16, 44, 1603, 11, 24, 2, 6396, 3073, 216..."
            ],
            "text/html": [
              "\n",
              "  <div id=\"df-31a43cfc-f85c-4b42-be13-f315d4aa7015\">\n",
              "    <div class=\"colab-df-container\">\n",
              "      <div>\n",
              "<style scoped>\n",
              "    .dataframe tbody tr th:only-of-type {\n",
              "        vertical-align: middle;\n",
              "    }\n",
              "\n",
              "    .dataframe tbody tr th {\n",
              "        vertical-align: top;\n",
              "    }\n",
              "\n",
              "    .dataframe thead th {\n",
              "        text-align: right;\n",
              "    }\n",
              "</style>\n",
              "<table border=\"1\" class=\"dataframe\">\n",
              "  <thead>\n",
              "    <tr style=\"text-align: right;\">\n",
              "      <th></th>\n",
              "      <th>label</th>\n",
              "      <th>comment</th>\n",
              "    </tr>\n",
              "  </thead>\n",
              "  <tbody>\n",
              "    <tr>\n",
              "      <th>229817</th>\n",
              "      <td>1</td>\n",
              "      <td>[31, 31, 11, 26, 1, 1602, 5, 87]</td>\n",
              "    </tr>\n",
              "    <tr>\n",
              "      <th>364395</th>\n",
              "      <td>1</td>\n",
              "      <td>[1660, 8, 2898]</td>\n",
              "    </tr>\n",
              "    <tr>\n",
              "      <th>71101</th>\n",
              "      <td>0</td>\n",
              "      <td>[22, 334, 71, 972, 21, 10, 11, 84]</td>\n",
              "    </tr>\n",
              "    <tr>\n",
              "      <th>381083</th>\n",
              "      <td>0</td>\n",
              "      <td>[2899, 6395, 66, 584, 4, 477, 120, 3464, 12, 1...</td>\n",
              "    </tr>\n",
              "    <tr>\n",
              "      <th>293408</th>\n",
              "      <td>1</td>\n",
              "      <td>[169, 16, 44, 1603, 11, 24, 2, 6396, 3073, 216...</td>\n",
              "    </tr>\n",
              "  </tbody>\n",
              "</table>\n",
              "</div>\n",
              "      <button class=\"colab-df-convert\" onclick=\"convertToInteractive('df-31a43cfc-f85c-4b42-be13-f315d4aa7015')\"\n",
              "              title=\"Convert this dataframe to an interactive table.\"\n",
              "              style=\"display:none;\">\n",
              "        \n",
              "  <svg xmlns=\"http://www.w3.org/2000/svg\" height=\"24px\"viewBox=\"0 0 24 24\"\n",
              "       width=\"24px\">\n",
              "    <path d=\"M0 0h24v24H0V0z\" fill=\"none\"/>\n",
              "    <path d=\"M18.56 5.44l.94 2.06.94-2.06 2.06-.94-2.06-.94-.94-2.06-.94 2.06-2.06.94zm-11 1L8.5 8.5l.94-2.06 2.06-.94-2.06-.94L8.5 2.5l-.94 2.06-2.06.94zm10 10l.94 2.06.94-2.06 2.06-.94-2.06-.94-.94-2.06-.94 2.06-2.06.94z\"/><path d=\"M17.41 7.96l-1.37-1.37c-.4-.4-.92-.59-1.43-.59-.52 0-1.04.2-1.43.59L10.3 9.45l-7.72 7.72c-.78.78-.78 2.05 0 2.83L4 21.41c.39.39.9.59 1.41.59.51 0 1.02-.2 1.41-.59l7.78-7.78 2.81-2.81c.8-.78.8-2.07 0-2.86zM5.41 20L4 18.59l7.72-7.72 1.47 1.35L5.41 20z\"/>\n",
              "  </svg>\n",
              "      </button>\n",
              "      \n",
              "  <style>\n",
              "    .colab-df-container {\n",
              "      display:flex;\n",
              "      flex-wrap:wrap;\n",
              "      gap: 12px;\n",
              "    }\n",
              "\n",
              "    .colab-df-convert {\n",
              "      background-color: #E8F0FE;\n",
              "      border: none;\n",
              "      border-radius: 50%;\n",
              "      cursor: pointer;\n",
              "      display: none;\n",
              "      fill: #1967D2;\n",
              "      height: 32px;\n",
              "      padding: 0 0 0 0;\n",
              "      width: 32px;\n",
              "    }\n",
              "\n",
              "    .colab-df-convert:hover {\n",
              "      background-color: #E2EBFA;\n",
              "      box-shadow: 0px 1px 2px rgba(60, 64, 67, 0.3), 0px 1px 3px 1px rgba(60, 64, 67, 0.15);\n",
              "      fill: #174EA6;\n",
              "    }\n",
              "\n",
              "    [theme=dark] .colab-df-convert {\n",
              "      background-color: #3B4455;\n",
              "      fill: #D2E3FC;\n",
              "    }\n",
              "\n",
              "    [theme=dark] .colab-df-convert:hover {\n",
              "      background-color: #434B5C;\n",
              "      box-shadow: 0px 1px 3px 1px rgba(0, 0, 0, 0.15);\n",
              "      filter: drop-shadow(0px 1px 2px rgba(0, 0, 0, 0.3));\n",
              "      fill: #FFFFFF;\n",
              "    }\n",
              "  </style>\n",
              "\n",
              "      <script>\n",
              "        const buttonEl =\n",
              "          document.querySelector('#df-31a43cfc-f85c-4b42-be13-f315d4aa7015 button.colab-df-convert');\n",
              "        buttonEl.style.display =\n",
              "          google.colab.kernel.accessAllowed ? 'block' : 'none';\n",
              "\n",
              "        async function convertToInteractive(key) {\n",
              "          const element = document.querySelector('#df-31a43cfc-f85c-4b42-be13-f315d4aa7015');\n",
              "          const dataTable =\n",
              "            await google.colab.kernel.invokeFunction('convertToInteractive',\n",
              "                                                     [key], {});\n",
              "          if (!dataTable) return;\n",
              "\n",
              "          const docLinkHtml = 'Like what you see? Visit the ' +\n",
              "            '<a target=\"_blank\" href=https://colab.research.google.com/notebooks/data_table.ipynb>data table notebook</a>'\n",
              "            + ' to learn more about interactive tables.';\n",
              "          element.innerHTML = '';\n",
              "          dataTable['output_type'] = 'display_data';\n",
              "          await google.colab.output.renderOutput(dataTable, element);\n",
              "          const docLink = document.createElement('div');\n",
              "          docLink.innerHTML = docLinkHtml;\n",
              "          element.appendChild(docLink);\n",
              "        }\n",
              "      </script>\n",
              "    </div>\n",
              "  </div>\n",
              "  "
            ]
          },
          "metadata": {},
          "execution_count": 10
        }
      ],
      "source": [
        "df_train.head()"
      ]
    },
    {
      "cell_type": "code",
      "execution_count": 11,
      "metadata": {
        "id": "WT00R4exBhaZ"
      },
      "outputs": [],
      "source": [
        "N_train = df_train.comment.apply(len)\n",
        "N_test = df_test.comment.apply(len)"
      ]
    },
    {
      "cell_type": "code",
      "execution_count": 12,
      "metadata": {
        "id": "W7fCL2ZmBhaZ"
      },
      "outputs": [],
      "source": [
        "df_train = df_train.loc[(10<=N_train)&(N_train<=100)]\n",
        "df_test = df_test.loc[(10<=N_test)&(N_test<=100)]"
      ]
    },
    {
      "cell_type": "code",
      "execution_count": 13,
      "metadata": {
        "colab": {
          "base_uri": "https://localhost:8080/",
          "height": 206
        },
        "id": "BnNGZsUnBhaZ",
        "outputId": "4f51e3a8-e200-4b1f-e4a3-dc0405bfe48c"
      },
      "outputs": [
        {
          "output_type": "execute_result",
          "data": {
            "text/plain": [
              "        label                                            comment\n",
              "381083      0  [2899, 6395, 66, 584, 4, 477, 120, 3464, 12, 1...\n",
              "293408      1  [169, 16, 44, 1603, 11, 24, 2, 6396, 3073, 216...\n",
              "163338      1  [41, 1, 4301, 39, 20, 106, 110, 105, 130, 24, ...\n",
              "94182       1  [29, 51, 317, 2767, 644, 131, 2, 631, 8, 244, ...\n",
              "117687      1  [41, 25, 21, 27, 182, 2, 3702, 6, 420, 1015, 2..."
            ],
            "text/html": [
              "\n",
              "  <div id=\"df-a154b8eb-f908-49e4-9b71-a408d2a680de\">\n",
              "    <div class=\"colab-df-container\">\n",
              "      <div>\n",
              "<style scoped>\n",
              "    .dataframe tbody tr th:only-of-type {\n",
              "        vertical-align: middle;\n",
              "    }\n",
              "\n",
              "    .dataframe tbody tr th {\n",
              "        vertical-align: top;\n",
              "    }\n",
              "\n",
              "    .dataframe thead th {\n",
              "        text-align: right;\n",
              "    }\n",
              "</style>\n",
              "<table border=\"1\" class=\"dataframe\">\n",
              "  <thead>\n",
              "    <tr style=\"text-align: right;\">\n",
              "      <th></th>\n",
              "      <th>label</th>\n",
              "      <th>comment</th>\n",
              "    </tr>\n",
              "  </thead>\n",
              "  <tbody>\n",
              "    <tr>\n",
              "      <th>381083</th>\n",
              "      <td>0</td>\n",
              "      <td>[2899, 6395, 66, 584, 4, 477, 120, 3464, 12, 1...</td>\n",
              "    </tr>\n",
              "    <tr>\n",
              "      <th>293408</th>\n",
              "      <td>1</td>\n",
              "      <td>[169, 16, 44, 1603, 11, 24, 2, 6396, 3073, 216...</td>\n",
              "    </tr>\n",
              "    <tr>\n",
              "      <th>163338</th>\n",
              "      <td>1</td>\n",
              "      <td>[41, 1, 4301, 39, 20, 106, 110, 105, 130, 24, ...</td>\n",
              "    </tr>\n",
              "    <tr>\n",
              "      <th>94182</th>\n",
              "      <td>1</td>\n",
              "      <td>[29, 51, 317, 2767, 644, 131, 2, 631, 8, 244, ...</td>\n",
              "    </tr>\n",
              "    <tr>\n",
              "      <th>117687</th>\n",
              "      <td>1</td>\n",
              "      <td>[41, 25, 21, 27, 182, 2, 3702, 6, 420, 1015, 2...</td>\n",
              "    </tr>\n",
              "  </tbody>\n",
              "</table>\n",
              "</div>\n",
              "      <button class=\"colab-df-convert\" onclick=\"convertToInteractive('df-a154b8eb-f908-49e4-9b71-a408d2a680de')\"\n",
              "              title=\"Convert this dataframe to an interactive table.\"\n",
              "              style=\"display:none;\">\n",
              "        \n",
              "  <svg xmlns=\"http://www.w3.org/2000/svg\" height=\"24px\"viewBox=\"0 0 24 24\"\n",
              "       width=\"24px\">\n",
              "    <path d=\"M0 0h24v24H0V0z\" fill=\"none\"/>\n",
              "    <path d=\"M18.56 5.44l.94 2.06.94-2.06 2.06-.94-2.06-.94-.94-2.06-.94 2.06-2.06.94zm-11 1L8.5 8.5l.94-2.06 2.06-.94-2.06-.94L8.5 2.5l-.94 2.06-2.06.94zm10 10l.94 2.06.94-2.06 2.06-.94-2.06-.94-.94-2.06-.94 2.06-2.06.94z\"/><path d=\"M17.41 7.96l-1.37-1.37c-.4-.4-.92-.59-1.43-.59-.52 0-1.04.2-1.43.59L10.3 9.45l-7.72 7.72c-.78.78-.78 2.05 0 2.83L4 21.41c.39.39.9.59 1.41.59.51 0 1.02-.2 1.41-.59l7.78-7.78 2.81-2.81c.8-.78.8-2.07 0-2.86zM5.41 20L4 18.59l7.72-7.72 1.47 1.35L5.41 20z\"/>\n",
              "  </svg>\n",
              "      </button>\n",
              "      \n",
              "  <style>\n",
              "    .colab-df-container {\n",
              "      display:flex;\n",
              "      flex-wrap:wrap;\n",
              "      gap: 12px;\n",
              "    }\n",
              "\n",
              "    .colab-df-convert {\n",
              "      background-color: #E8F0FE;\n",
              "      border: none;\n",
              "      border-radius: 50%;\n",
              "      cursor: pointer;\n",
              "      display: none;\n",
              "      fill: #1967D2;\n",
              "      height: 32px;\n",
              "      padding: 0 0 0 0;\n",
              "      width: 32px;\n",
              "    }\n",
              "\n",
              "    .colab-df-convert:hover {\n",
              "      background-color: #E2EBFA;\n",
              "      box-shadow: 0px 1px 2px rgba(60, 64, 67, 0.3), 0px 1px 3px 1px rgba(60, 64, 67, 0.15);\n",
              "      fill: #174EA6;\n",
              "    }\n",
              "\n",
              "    [theme=dark] .colab-df-convert {\n",
              "      background-color: #3B4455;\n",
              "      fill: #D2E3FC;\n",
              "    }\n",
              "\n",
              "    [theme=dark] .colab-df-convert:hover {\n",
              "      background-color: #434B5C;\n",
              "      box-shadow: 0px 1px 3px 1px rgba(0, 0, 0, 0.15);\n",
              "      filter: drop-shadow(0px 1px 2px rgba(0, 0, 0, 0.3));\n",
              "      fill: #FFFFFF;\n",
              "    }\n",
              "  </style>\n",
              "\n",
              "      <script>\n",
              "        const buttonEl =\n",
              "          document.querySelector('#df-a154b8eb-f908-49e4-9b71-a408d2a680de button.colab-df-convert');\n",
              "        buttonEl.style.display =\n",
              "          google.colab.kernel.accessAllowed ? 'block' : 'none';\n",
              "\n",
              "        async function convertToInteractive(key) {\n",
              "          const element = document.querySelector('#df-a154b8eb-f908-49e4-9b71-a408d2a680de');\n",
              "          const dataTable =\n",
              "            await google.colab.kernel.invokeFunction('convertToInteractive',\n",
              "                                                     [key], {});\n",
              "          if (!dataTable) return;\n",
              "\n",
              "          const docLinkHtml = 'Like what you see? Visit the ' +\n",
              "            '<a target=\"_blank\" href=https://colab.research.google.com/notebooks/data_table.ipynb>data table notebook</a>'\n",
              "            + ' to learn more about interactive tables.';\n",
              "          element.innerHTML = '';\n",
              "          dataTable['output_type'] = 'display_data';\n",
              "          await google.colab.output.renderOutput(dataTable, element);\n",
              "          const docLink = document.createElement('div');\n",
              "          docLink.innerHTML = docLinkHtml;\n",
              "          element.appendChild(docLink);\n",
              "        }\n",
              "      </script>\n",
              "    </div>\n",
              "  </div>\n",
              "  "
            ]
          },
          "metadata": {},
          "execution_count": 13
        }
      ],
      "source": [
        "df_train.head()"
      ]
    },
    {
      "cell_type": "markdown",
      "metadata": {
        "id": "u1pH5XjvBhaa"
      },
      "source": [
        "Now, we will have to pad the data. Since, we are working with hundreds of thousands of sentences. Padding the entire dataset is wasteful.\n",
        "\n",
        "We can do it online by using TensorFlow dataset. This enables us to do operations online, such as padding, shuffling, among other.\n",
        "\n",
        "Note that we are defining here the batch size and then padding the batch.\n",
        "\n",
        "The prefetch operation will decouple the preparation of the batch with the execution itself. Removing the waiting time of the network for more data."
      ]
    },
    {
      "cell_type": "code",
      "execution_count": 14,
      "metadata": {
        "id": "JMhOioBHBhab"
      },
      "outputs": [],
      "source": [
        "ragged_train = tf.ragged.constant(df_train.comment)\n",
        "label_train = df_train.label\n",
        "data_test = df_test.comment\n",
        "label_test = df_test.label"
      ]
    },
    {
      "cell_type": "code",
      "execution_count": 15,
      "metadata": {
        "id": "xOGAI8Y9Bhab"
      },
      "outputs": [],
      "source": [
        "dataset_train = tf.data.Dataset.from_tensor_slices((ragged_train,label_train))\n",
        "dataset_train = dataset_train.shuffle(5000)\n",
        "dataset_train = dataset_train.batch(512)\n",
        "dataset_train = dataset_train.map(lambda x,y: (x.to_tensor(default_value=0, shape=[None, None]), y), num_parallel_calls=5)\n",
        "dataset_train = dataset_train.prefetch(3)"
      ]
    },
    {
      "cell_type": "code",
      "execution_count": 16,
      "metadata": {
        "id": "tEyreHKrBhab"
      },
      "outputs": [],
      "source": [
        "ragged_test = tf.ragged.constant(data_test)\n",
        "label_test = tf.ragged.constant(label_test)\n",
        "dataset_test = tf.data.Dataset.from_tensor_slices((ragged_test,label_test))\n",
        "dataset_test = dataset_test.batch(512)\n",
        "dataset_test = dataset_test.map(lambda x,y: (x.to_tensor(default_value=0, shape=[None, None]), y), num_parallel_calls=5)\n",
        "dataset_test = dataset_test.prefetch(3)"
      ]
    },
    {
      "cell_type": "markdown",
      "metadata": {
        "id": "6gqaiQgXBhac"
      },
      "source": [
        "Now, we can define the model based on LSTMs. \n",
        "\n",
        "From the google [Translate paper](https://arxiv.org/abs/1609.08144), we can see that skip connections enable us to train deeper recurrent networks.\n",
        "\n",
        "For that, add skips connections between different LSTMs layers."
      ]
    },
    {
      "cell_type": "code",
      "execution_count": 18,
      "metadata": {
        "id": "DUMsL6-KBhac"
      },
      "outputs": [],
      "source": [
        "emb_size = 128\n",
        "hidden_size = 12"
      ]
    },
    {
      "cell_type": "code",
      "execution_count": 19,
      "metadata": {
        "id": "2Dapo2tVBhad"
      },
      "outputs": [],
      "source": [
        "tf.keras.backend.clear_session()\n",
        "inputs = tf.keras.Input(shape=[None,], dtype=tf.int32)\n",
        "word_emb = tf.keras.layers.Embedding(tok.num_words+1, emb_size, mask_zero=True)(inputs)\n",
        "LSTM1 = tf.keras.layers.LSTM(hidden_size, return_sequences=True)\n",
        "h1  = LSTM1(word_emb)\n",
        "proyection_W = tf.keras.layers.Dense(LSTM1.units, name='Res_W', activation='relu')\n",
        "residual1 = h1 + proyection_W(word_emb)\n",
        "LSTM2 = tf.keras.layers.LSTM(hidden_size, return_sequences=True)\n",
        "h2 = LSTM2(residual1)\n",
        "residual2 = h2 + h1\n",
        "\n",
        "LSTM3 = tf.keras.layers.LSTM(hidden_size, return_sequences=True)\n",
        "h3 = LSTM3(residual2)\n",
        "\n",
        "residual3 = h3 + h2\n",
        "\n",
        "LSTM4 = tf.keras.layers.LSTM(hidden_size, return_sequences=True)\n",
        "h4 = LSTM4(residual3)\n",
        "\n",
        "h = tf.keras.layers.Concatenate(axis=2)([h1, h2, h3, h4])\n",
        "final = tf.keras.layers.LSTM(hidden_size, return_sequences=False)(h)\n",
        "\n",
        "output = tf.keras.layers.Dense(2, activation='softmax')(final)\n",
        "\n",
        "model = tf.keras.Model(inputs = inputs, outputs = output)"
      ]
    },
    {
      "cell_type": "code",
      "execution_count": 20,
      "metadata": {
        "colab": {
          "base_uri": "https://localhost:8080/",
          "height": 1000
        },
        "id": "a2yTuLRzBhad",
        "outputId": "0687b453-5a69-4757-a29a-c28bbc20b0c5"
      },
      "outputs": [
        {
          "output_type": "execute_result",
          "data": {
            "text/plain": [
              "<IPython.core.display.Image object>"
            ],
            "image/png": "[encoded data removed]"
          },
          "metadata": {},
          "execution_count": 20
        }
      ],
      "source": [
        "from keras.utils.vis_utils import plot_model\n",
        "plot_model(model)"
      ]
    },
    {
      "cell_type": "code",
      "execution_count": 21,
      "metadata": {
        "colab": {
          "base_uri": "https://localhost:8080/"
        },
        "id": "CrFlL7ACBhae",
        "outputId": "84112db0-8e17-4a20-e043-5dec5c0bf873"
      },
      "outputs": [
        {
          "output_type": "stream",
          "name": "stdout",
          "text": [
            "Model: \"model\"\n",
            "__________________________________________________________________________________________________\n",
            " Layer (type)                   Output Shape         Param #     Connected to                     \n",
            "==================================================================================================\n",
            " input_1 (InputLayer)           [(None, None)]       0           []                               \n",
            "                                                                                                  \n",
            " embedding (Embedding)          (None, None, 128)    1280128     ['input_1[0][0]']                \n",
            "                                                                                                  \n",
            " lstm (LSTM)                    (None, None, 12)     6768        ['embedding[0][0]']              \n",
            "                                                                                                  \n",
            " Res_W (Dense)                  (None, None, 12)     1548        ['embedding[0][0]']              \n",
            "                                                                                                  \n",
            " tf.__operators__.add (TFOpLamb  (None, None, 12)    0           ['lstm[0][0]',                   \n",
            " da)                                                              'Res_W[0][0]']                  \n",
            "                                                                                                  \n",
            " lstm_1 (LSTM)                  (None, None, 12)     1200        ['tf.__operators__.add[0][0]']   \n",
            "                                                                                                  \n",
            " tf.__operators__.add_1 (TFOpLa  (None, None, 12)    0           ['lstm_1[0][0]',                 \n",
            " mbda)                                                            'lstm[0][0]']                   \n",
            "                                                                                                  \n",
            " lstm_2 (LSTM)                  (None, None, 12)     1200        ['tf.__operators__.add_1[0][0]'] \n",
            "                                                                                                  \n",
            " tf.__operators__.add_2 (TFOpLa  (None, None, 12)    0           ['lstm_2[0][0]',                 \n",
            " mbda)                                                            'lstm_1[0][0]']                 \n",
            "                                                                                                  \n",
            " lstm_3 (LSTM)                  (None, None, 12)     1200        ['tf.__operators__.add_2[0][0]'] \n",
            "                                                                                                  \n",
            " concatenate (Concatenate)      (None, None, 48)     0           ['lstm[0][0]',                   \n",
            "                                                                  'lstm_1[0][0]',                 \n",
            "                                                                  'lstm_2[0][0]',                 \n",
            "                                                                  'lstm_3[0][0]']                 \n",
            "                                                                                                  \n",
            " lstm_4 (LSTM)                  (None, 12)           2928        ['concatenate[0][0]']            \n",
            "                                                                                                  \n",
            " dense (Dense)                  (None, 2)            26          ['lstm_4[0][0]']                 \n",
            "                                                                                                  \n",
            "==================================================================================================\n",
            "Total params: 1,294,998\n",
            "Trainable params: 1,294,998\n",
            "Non-trainable params: 0\n",
            "__________________________________________________________________________________________________\n"
          ]
        }
      ],
      "source": [
        "model.summary()"
      ]
    },
    {
      "cell_type": "code",
      "execution_count": 22,
      "metadata": {
        "id": "y1tPQ0isBhae"
      },
      "outputs": [],
      "source": [
        "model.compile(optimizer=tf.keras.optimizers.Adam(1e-2), loss='sparse_categorical_crossentropy', metrics=['accuracy'])"
      ]
    },
    {
      "cell_type": "code",
      "execution_count": 23,
      "metadata": {
        "colab": {
          "base_uri": "https://localhost:8080/"
        },
        "id": "JzvlygKCBhae",
        "outputId": "853f6f35-b261-4e68-f207-c4bd27b67c3b"
      },
      "outputs": [
        {
          "output_type": "stream",
          "name": "stdout",
          "text": [
            "Epoch 1/20\n",
            "42/42 [==============================] - 33s 488ms/step - loss: 0.6134 - accuracy: 0.6609 - val_loss: 0.5776 - val_accuracy: 0.6897\n",
            "Epoch 2/20\n",
            "42/42 [==============================] - 17s 403ms/step - loss: 0.4805 - accuracy: 0.7763 - val_loss: 0.6395 - val_accuracy: 0.6836\n",
            "Epoch 3/20\n",
            "42/42 [==============================] - 18s 431ms/step - loss: 0.3814 - accuracy: 0.8327 - val_loss: 0.6811 - val_accuracy: 0.6647\n",
            "Epoch 4/20\n",
            "42/42 [==============================] - 17s 405ms/step - loss: 0.2761 - accuracy: 0.8855 - val_loss: 0.8943 - val_accuracy: 0.6509\n",
            "Epoch 5/20\n",
            "42/42 [==============================] - 16s 385ms/step - loss: 0.1988 - accuracy: 0.9194 - val_loss: 1.1439 - val_accuracy: 0.6413\n",
            "Epoch 6/20\n",
            "42/42 [==============================] - 17s 396ms/step - loss: 0.1473 - accuracy: 0.9418 - val_loss: 1.2726 - val_accuracy: 0.6461\n",
            "Epoch 7/20\n",
            "42/42 [==============================] - 17s 402ms/step - loss: 0.0981 - accuracy: 0.9643 - val_loss: 1.4847 - val_accuracy: 0.6440\n",
            "Epoch 8/20\n",
            "42/42 [==============================] - 17s 394ms/step - loss: 0.0645 - accuracy: 0.9782 - val_loss: 1.8600 - val_accuracy: 0.6590\n",
            "Epoch 9/20\n",
            "42/42 [==============================] - 18s 422ms/step - loss: 0.0526 - accuracy: 0.9805 - val_loss: 1.8463 - val_accuracy: 0.6428\n",
            "Epoch 10/20\n",
            "42/42 [==============================] - 17s 400ms/step - loss: 0.0405 - accuracy: 0.9858 - val_loss: 2.0617 - val_accuracy: 0.6465\n",
            "Epoch 11/20\n",
            "42/42 [==============================] - 17s 403ms/step - loss: 0.0301 - accuracy: 0.9902 - val_loss: 2.0715 - val_accuracy: 0.6392\n",
            "Epoch 12/20\n",
            "42/42 [==============================] - 17s 394ms/step - loss: 0.0244 - accuracy: 0.9924 - val_loss: 2.2236 - val_accuracy: 0.6478\n",
            "Epoch 13/20\n",
            "42/42 [==============================] - 17s 400ms/step - loss: 0.0196 - accuracy: 0.9940 - val_loss: 2.2549 - val_accuracy: 0.6434\n",
            "Epoch 14/20\n",
            "42/42 [==============================] - 17s 406ms/step - loss: 0.0167 - accuracy: 0.9950 - val_loss: 2.3547 - val_accuracy: 0.6459\n",
            "Epoch 15/20\n",
            "42/42 [==============================] - 17s 403ms/step - loss: 0.0179 - accuracy: 0.9944 - val_loss: 2.3793 - val_accuracy: 0.6451\n",
            "Epoch 16/20\n",
            "42/42 [==============================] - 18s 418ms/step - loss: 0.0246 - accuracy: 0.9919 - val_loss: 2.1107 - val_accuracy: 0.6442\n",
            "Epoch 17/20\n",
            "42/42 [==============================] - 17s 392ms/step - loss: 0.0158 - accuracy: 0.9950 - val_loss: 2.4275 - val_accuracy: 0.6394\n",
            "Epoch 18/20\n",
            "42/42 [==============================] - 17s 404ms/step - loss: 0.0236 - accuracy: 0.9928 - val_loss: 2.2276 - val_accuracy: 0.6386\n",
            "Epoch 19/20\n",
            "42/42 [==============================] - 17s 401ms/step - loss: 0.0180 - accuracy: 0.9944 - val_loss: 2.2410 - val_accuracy: 0.6505\n",
            "Epoch 20/20\n",
            "42/42 [==============================] - 17s 403ms/step - loss: 0.0091 - accuracy: 0.9971 - val_loss: 2.5191 - val_accuracy: 0.6472\n"
          ]
        }
      ],
      "source": [
        "history = model.fit(dataset_train, epochs =20, validation_data=dataset_test)"
      ]
    },
    {
      "cell_type": "code",
      "execution_count": 24,
      "metadata": {
        "id": "bdVuyXTsBhae"
      },
      "outputs": [],
      "source": [
        "pred = model.predict(dataset_test)\n",
        "pred = pred.argmax(axis=1)"
      ]
    },
    {
      "cell_type": "code",
      "execution_count": 25,
      "metadata": {
        "colab": {
          "base_uri": "https://localhost:8080/"
        },
        "id": "-iAOECeVBhaf",
        "outputId": "42eccd3a-4495-4acb-a324-632a4336d50e"
      },
      "outputs": [
        {
          "output_type": "stream",
          "name": "stdout",
          "text": [
            "              precision    recall  f1-score   support\n",
            "\n",
            "           0       0.60      0.59      0.59      2262\n",
            "           1       0.69      0.69      0.69      2937\n",
            "\n",
            "    accuracy                           0.65      5199\n",
            "   macro avg       0.64      0.64      0.64      5199\n",
            "weighted avg       0.65      0.65      0.65      5199\n",
            "\n"
          ]
        }
      ],
      "source": [
        "print(classification_report(label_test, pred))"
      ]
    },
    {
      "cell_type": "markdown",
      "metadata": {
        "id": "f9v_qZKCBhaf"
      },
      "source": [
        "Now you have a model to detect sarcasm. Use it with your own sentences. \n",
        "How are your predictions?"
      ]
    },
    {
      "cell_type": "code",
      "source": [
        "model.predict(tok.texts_to_sequences(['Could this model be any worse?']))"
      ],
      "metadata": {
        "colab": {
          "base_uri": "https://localhost:8080/"
        },
        "id": "QgDke9yKGE8Z",
        "outputId": "516b8120-e366-4472-8b0b-965f0062cc86"
      },
      "execution_count": 27,
      "outputs": [
        {
          "output_type": "execute_result",
          "data": {
            "text/plain": [
              "array([[0.6725572 , 0.32744277]], dtype=float32)"
            ]
          },
          "metadata": {},
          "execution_count": 27
        }
      ]
    },
    {
      "cell_type": "code",
      "source": [
        ""
      ],
      "metadata": {
        "id": "zhVo5J4gGPb2"
      },
      "execution_count": null,
      "outputs": []
    }
  ]
}